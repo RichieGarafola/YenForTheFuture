{
 "cells": [
  {
   "cell_type": "code",
   "execution_count": 1,
   "id": "ff79625e-19d7-48be-a6b8-7f221deda2ff",
   "metadata": {},
   "outputs": [],
   "source": [
    "import numpy as np\n",
    "import pandas as pd\n",
    "from pathlib import Path\n",
    "%matplotlib inline\n",
    "import yfinance as yf"
   ]
  },
  {
   "cell_type": "markdown",
   "id": "80221464-4ed2-428d-9840-2e7925b54308",
   "metadata": {},
   "source": [
    "# Return Forecasting: Read Historical Daily Yen Futures Data\n",
    "\n",
    "In this notebook, you will load historical Dollar-Yen exchange rate futures data from the Yahoo Finance API and apply time series analysis and modeling to determine whether there is any predictable behavior.\n"
   ]
  },
  {
   "cell_type": "code",
   "execution_count": 2,
   "id": "e43df923-8277-4120-84d3-744ed75aad69",
   "metadata": {},
   "outputs": [
    {
     "name": "stdout",
     "output_type": "stream",
     "text": [
      "[*********************100%***********************]  1 of 1 completed\n"
     ]
    },
    {
     "data": {
      "text/html": [
       "<div>\n",
       "<style scoped>\n",
       "    .dataframe tbody tr th:only-of-type {\n",
       "        vertical-align: middle;\n",
       "    }\n",
       "\n",
       "    .dataframe tbody tr th {\n",
       "        vertical-align: top;\n",
       "    }\n",
       "\n",
       "    .dataframe thead th {\n",
       "        text-align: right;\n",
       "    }\n",
       "</style>\n",
       "<table border=\"1\" class=\"dataframe\">\n",
       "  <thead>\n",
       "    <tr style=\"text-align: right;\">\n",
       "      <th></th>\n",
       "      <th>Open</th>\n",
       "      <th>High</th>\n",
       "      <th>Low</th>\n",
       "      <th>Close</th>\n",
       "      <th>Adj Close</th>\n",
       "      <th>Volume</th>\n",
       "    </tr>\n",
       "    <tr>\n",
       "      <th>Date</th>\n",
       "      <th></th>\n",
       "      <th></th>\n",
       "      <th></th>\n",
       "      <th></th>\n",
       "      <th></th>\n",
       "      <th></th>\n",
       "    </tr>\n",
       "  </thead>\n",
       "  <tbody>\n",
       "    <tr>\n",
       "      <th>1996-10-30</th>\n",
       "      <td>114.370003</td>\n",
       "      <td>114.480003</td>\n",
       "      <td>113.610001</td>\n",
       "      <td>114.180000</td>\n",
       "      <td>114.180000</td>\n",
       "      <td>0</td>\n",
       "    </tr>\n",
       "    <tr>\n",
       "      <th>1996-11-01</th>\n",
       "      <td>113.500000</td>\n",
       "      <td>113.500000</td>\n",
       "      <td>113.500000</td>\n",
       "      <td>113.500000</td>\n",
       "      <td>113.500000</td>\n",
       "      <td>0</td>\n",
       "    </tr>\n",
       "    <tr>\n",
       "      <th>1996-11-04</th>\n",
       "      <td>113.279999</td>\n",
       "      <td>113.980003</td>\n",
       "      <td>112.949997</td>\n",
       "      <td>113.879997</td>\n",
       "      <td>113.879997</td>\n",
       "      <td>0</td>\n",
       "    </tr>\n",
       "    <tr>\n",
       "      <th>1996-11-05</th>\n",
       "      <td>113.709999</td>\n",
       "      <td>114.330002</td>\n",
       "      <td>113.449997</td>\n",
       "      <td>114.250000</td>\n",
       "      <td>114.250000</td>\n",
       "      <td>0</td>\n",
       "    </tr>\n",
       "    <tr>\n",
       "      <th>1996-11-06</th>\n",
       "      <td>114.230003</td>\n",
       "      <td>114.680000</td>\n",
       "      <td>113.650002</td>\n",
       "      <td>113.949997</td>\n",
       "      <td>113.949997</td>\n",
       "      <td>0</td>\n",
       "    </tr>\n",
       "    <tr>\n",
       "      <th>...</th>\n",
       "      <td>...</td>\n",
       "      <td>...</td>\n",
       "      <td>...</td>\n",
       "      <td>...</td>\n",
       "      <td>...</td>\n",
       "      <td>...</td>\n",
       "    </tr>\n",
       "    <tr>\n",
       "      <th>2022-11-11</th>\n",
       "      <td>141.733994</td>\n",
       "      <td>142.466003</td>\n",
       "      <td>138.888000</td>\n",
       "      <td>141.733994</td>\n",
       "      <td>141.733994</td>\n",
       "      <td>0</td>\n",
       "    </tr>\n",
       "    <tr>\n",
       "      <th>2022-11-14</th>\n",
       "      <td>139.552994</td>\n",
       "      <td>140.768997</td>\n",
       "      <td>138.869003</td>\n",
       "      <td>139.552994</td>\n",
       "      <td>139.552994</td>\n",
       "      <td>0</td>\n",
       "    </tr>\n",
       "    <tr>\n",
       "      <th>2022-11-15</th>\n",
       "      <td>140.115005</td>\n",
       "      <td>140.580994</td>\n",
       "      <td>137.809006</td>\n",
       "      <td>140.115005</td>\n",
       "      <td>140.115005</td>\n",
       "      <td>0</td>\n",
       "    </tr>\n",
       "    <tr>\n",
       "      <th>2022-11-16</th>\n",
       "      <td>138.964996</td>\n",
       "      <td>140.285004</td>\n",
       "      <td>138.893997</td>\n",
       "      <td>138.964996</td>\n",
       "      <td>138.964996</td>\n",
       "      <td>0</td>\n",
       "    </tr>\n",
       "    <tr>\n",
       "      <th>2022-11-17</th>\n",
       "      <td>140.259995</td>\n",
       "      <td>140.292999</td>\n",
       "      <td>140.229996</td>\n",
       "      <td>140.259995</td>\n",
       "      <td>140.259995</td>\n",
       "      <td>0</td>\n",
       "    </tr>\n",
       "  </tbody>\n",
       "</table>\n",
       "<p>6754 rows × 6 columns</p>\n",
       "</div>"
      ],
      "text/plain": [
       "                  Open        High         Low       Close   Adj Close  Volume\n",
       "Date                                                                          \n",
       "1996-10-30  114.370003  114.480003  113.610001  114.180000  114.180000       0\n",
       "1996-11-01  113.500000  113.500000  113.500000  113.500000  113.500000       0\n",
       "1996-11-04  113.279999  113.980003  112.949997  113.879997  113.879997       0\n",
       "1996-11-05  113.709999  114.330002  113.449997  114.250000  114.250000       0\n",
       "1996-11-06  114.230003  114.680000  113.650002  113.949997  113.949997       0\n",
       "...                ...         ...         ...         ...         ...     ...\n",
       "2022-11-11  141.733994  142.466003  138.888000  141.733994  141.733994       0\n",
       "2022-11-14  139.552994  140.768997  138.869003  139.552994  139.552994       0\n",
       "2022-11-15  140.115005  140.580994  137.809006  140.115005  140.115005       0\n",
       "2022-11-16  138.964996  140.285004  138.893997  138.964996  138.964996       0\n",
       "2022-11-17  140.259995  140.292999  140.229996  140.259995  140.259995       0\n",
       "\n",
       "[6754 rows x 6 columns]"
      ]
     },
     "execution_count": 2,
     "metadata": {},
     "output_type": "execute_result"
    }
   ],
   "source": [
    "# Futures contract on the dollar-Yen exchange rate:\n",
    "# This is the continuous chain of the futures contracts that are 1 month to expiration\n",
    "\n",
    "df = yf.download('USDJPY=X')\n",
    "df"
   ]
  },
  {
   "cell_type": "code",
   "execution_count": 3,
   "id": "fc8cad1d-85e7-4090-8668-b87312dbaa66",
   "metadata": {},
   "outputs": [
    {
     "data": {
      "text/html": [
       "<div>\n",
       "<style scoped>\n",
       "    .dataframe tbody tr th:only-of-type {\n",
       "        vertical-align: middle;\n",
       "    }\n",
       "\n",
       "    .dataframe tbody tr th {\n",
       "        vertical-align: top;\n",
       "    }\n",
       "\n",
       "    .dataframe thead th {\n",
       "        text-align: right;\n",
       "    }\n",
       "</style>\n",
       "<table border=\"1\" class=\"dataframe\">\n",
       "  <thead>\n",
       "    <tr style=\"text-align: right;\">\n",
       "      <th></th>\n",
       "      <th>Open</th>\n",
       "      <th>High</th>\n",
       "      <th>Low</th>\n",
       "      <th>Close</th>\n",
       "      <th>Adj Close</th>\n",
       "      <th>Volume</th>\n",
       "    </tr>\n",
       "    <tr>\n",
       "      <th>Date</th>\n",
       "      <th></th>\n",
       "      <th></th>\n",
       "      <th></th>\n",
       "      <th></th>\n",
       "      <th></th>\n",
       "      <th></th>\n",
       "    </tr>\n",
       "  </thead>\n",
       "  <tbody>\n",
       "    <tr>\n",
       "      <th>2000-01-03</th>\n",
       "      <td>102.070000</td>\n",
       "      <td>103.330002</td>\n",
       "      <td>101.309998</td>\n",
       "      <td>101.690002</td>\n",
       "      <td>101.690002</td>\n",
       "      <td>0</td>\n",
       "    </tr>\n",
       "    <tr>\n",
       "      <th>2000-01-04</th>\n",
       "      <td>101.639999</td>\n",
       "      <td>103.320000</td>\n",
       "      <td>101.470001</td>\n",
       "      <td>103.139999</td>\n",
       "      <td>103.139999</td>\n",
       "      <td>0</td>\n",
       "    </tr>\n",
       "    <tr>\n",
       "      <th>2000-01-05</th>\n",
       "      <td>103.129997</td>\n",
       "      <td>104.480003</td>\n",
       "      <td>102.750000</td>\n",
       "      <td>104.089996</td>\n",
       "      <td>104.089996</td>\n",
       "      <td>0</td>\n",
       "    </tr>\n",
       "    <tr>\n",
       "      <th>2000-01-06</th>\n",
       "      <td>104.089996</td>\n",
       "      <td>105.559998</td>\n",
       "      <td>103.900002</td>\n",
       "      <td>105.230003</td>\n",
       "      <td>105.230003</td>\n",
       "      <td>0</td>\n",
       "    </tr>\n",
       "    <tr>\n",
       "      <th>2000-01-07</th>\n",
       "      <td>105.260002</td>\n",
       "      <td>105.879997</td>\n",
       "      <td>104.830002</td>\n",
       "      <td>105.330002</td>\n",
       "      <td>105.330002</td>\n",
       "      <td>0</td>\n",
       "    </tr>\n",
       "  </tbody>\n",
       "</table>\n",
       "</div>"
      ],
      "text/plain": [
       "                  Open        High         Low       Close   Adj Close  Volume\n",
       "Date                                                                          \n",
       "2000-01-03  102.070000  103.330002  101.309998  101.690002  101.690002       0\n",
       "2000-01-04  101.639999  103.320000  101.470001  103.139999  103.139999       0\n",
       "2000-01-05  103.129997  104.480003  102.750000  104.089996  104.089996       0\n",
       "2000-01-06  104.089996  105.559998  103.900002  105.230003  105.230003       0\n",
       "2000-01-07  105.260002  105.879997  104.830002  105.330002  105.330002       0"
      ]
     },
     "execution_count": 3,
     "metadata": {},
     "output_type": "execute_result"
    }
   ],
   "source": [
    "# Trim the dataset to begin on January 1st, 2000\n",
    "df = df.loc[\"2000-01-01\":, :]\n",
    "df.head()"
   ]
  },
  {
   "cell_type": "markdown",
   "id": "dda663f0-5621-40a3-a410-2ae530cf8311",
   "metadata": {},
   "source": [
    "# Return Forecasting: Initial Time-Series Plotting\n",
    "\n",
    "Start by plotting the \"Settle\" price. Do you see any patterns, long-term and/or short?"
   ]
  },
  {
   "cell_type": "code",
   "execution_count": 4,
   "id": "f4f892d2-8361-4367-b9a7-30efb0ef8a50",
   "metadata": {},
   "outputs": [
    {
     "data": {
      "image/png": "[encoded data removed]",
      "text/plain": [
       "<Figure size 864x576 with 1 Axes>"
      ]
     },
     "metadata": {
      "needs_background": "light"
     },
     "output_type": "display_data"
    }
   ],
   "source": [
    "# Plot just the \"Adj Close\" column from the dataframe:\n",
    "df_plot=df['Adj Close'].plot(title=\"Yen Futures Adj Close Prices\",figsize=(12,8),legend=True)\n",
    "df_fig = df_plot.get_figure()\n",
    "# df_fig.savefig(\"./Images/Yen_Future_AdjClose_Prices.png\")"
   ]
  },
  {
   "cell_type": "markdown",
   "id": "1c7ac7b9-3af6-49dc-8a66-a1f8040f340f",
   "metadata": {},
   "source": [
    "**Answer:**\n",
    "\n",
    "*Note, United States dollar is the base currency and the Japanese yen is the counter currency. Therefore when we see price moving upward it means Dollar is gaining strength and Yen is weakening.*\n",
    "\n",
    "In the long term, It seems that the Japanese Yen is weakening against the Dollar. Historically there has been a lot of short-term ups and downs but this past year we have seen a lot of strength in the dollar.\n"
   ]
  },
  {
   "cell_type": "markdown",
   "id": "76766096-d37f-4307-bbb9-9b6ea26dcab6",
   "metadata": {},
   "source": [
    "# Decomposition Using a Hodrick-Prescott Filter\n",
    "\n",
    "Using a Hodrick-Prescott Filter, decompose the Adj Close price into a trend and noise."
   ]
  },
  {
   "cell_type": "code",
   "execution_count": 5,
   "id": "a5fd82ef-5d5e-48f1-b429-8ab9ea66575c",
   "metadata": {},
   "outputs": [],
   "source": [
    "import statsmodels.api as sm\n",
    "\n",
    "# Apply the Hodrick-Prescott Filter by decomposing the \"Adj Close\" price into two separate series:\n",
    "settle_noise, settle_trend = sm.tsa.filters.hpfilter(df['Adj Close'])"
   ]
  },
  {
   "cell_type": "code",
   "execution_count": 6,
   "id": "4d3a1c44-c335-41bc-8776-303187fc7ab5",
   "metadata": {},
   "outputs": [
    {
     "data": {
      "text/html": [
       "<div>\n",
       "<style scoped>\n",
       "    .dataframe tbody tr th:only-of-type {\n",
       "        vertical-align: middle;\n",
       "    }\n",
       "\n",
       "    .dataframe tbody tr th {\n",
       "        vertical-align: top;\n",
       "    }\n",
       "\n",
       "    .dataframe thead th {\n",
       "        text-align: right;\n",
       "    }\n",
       "</style>\n",
       "<table border=\"1\" class=\"dataframe\">\n",
       "  <thead>\n",
       "    <tr style=\"text-align: right;\">\n",
       "      <th></th>\n",
       "      <th>Adj Close</th>\n",
       "      <th>noise</th>\n",
       "      <th>trend</th>\n",
       "    </tr>\n",
       "    <tr>\n",
       "      <th>Date</th>\n",
       "      <th></th>\n",
       "      <th></th>\n",
       "      <th></th>\n",
       "    </tr>\n",
       "  </thead>\n",
       "  <tbody>\n",
       "    <tr>\n",
       "      <th>2000-01-03</th>\n",
       "      <td>101.690002</td>\n",
       "      <td>-1.924205</td>\n",
       "      <td>103.614208</td>\n",
       "    </tr>\n",
       "    <tr>\n",
       "      <th>2000-01-04</th>\n",
       "      <td>103.139999</td>\n",
       "      <td>-0.672920</td>\n",
       "      <td>103.812919</td>\n",
       "    </tr>\n",
       "    <tr>\n",
       "      <th>2000-01-05</th>\n",
       "      <td>104.089996</td>\n",
       "      <td>0.079568</td>\n",
       "      <td>104.010429</td>\n",
       "    </tr>\n",
       "    <tr>\n",
       "      <th>2000-01-06</th>\n",
       "      <td>105.230003</td>\n",
       "      <td>1.024891</td>\n",
       "      <td>104.205112</td>\n",
       "    </tr>\n",
       "    <tr>\n",
       "      <th>2000-01-07</th>\n",
       "      <td>105.330002</td>\n",
       "      <td>0.934606</td>\n",
       "      <td>104.395396</td>\n",
       "    </tr>\n",
       "  </tbody>\n",
       "</table>\n",
       "</div>"
      ],
      "text/plain": [
       "             Adj Close     noise       trend\n",
       "Date                                        \n",
       "2000-01-03  101.690002 -1.924205  103.614208\n",
       "2000-01-04  103.139999 -0.672920  103.812919\n",
       "2000-01-05  104.089996  0.079568  104.010429\n",
       "2000-01-06  105.230003  1.024891  104.205112\n",
       "2000-01-07  105.330002  0.934606  104.395396"
      ]
     },
     "execution_count": 6,
     "metadata": {},
     "output_type": "execute_result"
    }
   ],
   "source": [
    "# Create a dataframe of just the Adj Close price, and add columns for \"noise\" and \"trend\" series from above:\n",
    "df_yen_futures = df[['Adj Close']].copy()\n",
    "df_yen_futures['noise'] = settle_noise\n",
    "df_yen_futures['trend'] = settle_trend\n",
    "df_yen_futures.head()\n",
    "\n"
   ]
  },
  {
   "cell_type": "code",
   "execution_count": 8,
   "id": "a4fd0f12-329c-41aa-960f-0cdb29bf7e58",
   "metadata": {},
   "outputs": [
    {
     "data": {
      "image/png": "[encoded data removed]",
      "text/plain": [
       "<Figure size 864x576 with 1 Axes>"
      ]
     },
     "metadata": {
      "needs_background": "light"
     },
     "output_type": "display_data"
    }
   ],
   "source": [
    "# Plot the Adj Close Price vs. the Trend for 2015 to the present\n",
    "settle_trend_plot=df_yen_futures['2015':].plot(y=['Adj Close','trend'],title=\"Adj Close vs Trend\",figsize=(12,8),legend=True)\n",
    "settle_trend_fig = settle_trend_plot.get_figure()\n",
    "# settle_trend_fig.savefig(\"./Images/Adj Close vs Trend.png\")\n",
    "\n"
   ]
  },
  {
   "cell_type": "code",
   "execution_count": 9,
   "id": "65964aa2-48e6-434d-bd89-349974667482",
   "metadata": {},
   "outputs": [
    {
     "data": {
      "image/png": "[encoded data removed]",
      "text/plain": [
       "<Figure size 864x576 with 1 Axes>"
      ]
     },
     "metadata": {
      "needs_background": "light"
     },
     "output_type": "display_data"
    }
   ],
   "source": [
    "# Plot the Adj Close Noise\n",
    "noise_plot=df_yen_futures.plot(y=['noise'],title=\"Noise\",figsize=(12,8),legend=False)\n",
    "noise_fig = noise_plot.get_figure()\n",
    "# noise_fig.savefig(\"./Images/Noise.png\")"
   ]
  },
  {
   "cell_type": "markdown",
   "id": "021806f4-9aab-44e1-9ca2-35f259e1e918",
   "metadata": {},
   "source": [
    "**Answer**\n",
    "\n",
    "In the the Adj Close Price vs. the Trend plot, It seems that there are a lot of short term fluctuations that deviate around the trend. The Noise plot gave us a visualization of where the most noise is on this chart. These points can be correllated with volatile periods in the market."
   ]
  },
  {
   "cell_type": "markdown",
   "id": "4afc7870-b0b1-4cfb-8141-8848b6efe251",
   "metadata": {},
   "source": [
    "# Forecasting Returns using an ARMA Model\n",
    "\n",
    "Using futures Adj Close Returns, estimate an ARMA model\n",
    "\n",
    "    - ARMA: Create an ARMA model and fit it to the returns data. Note: Set the AR and MA (\"p\" and \"q\") parameters to p=2 and q=1: order=(2,1). \n",
    "    - Output the ARMA summary table and take note of the p-values of the lags. Based on the p-values, is the model a good fit (p < 0.05)?\n",
    "    - Plot the 5-day forecast of the forecasted returns (the results forecast from ARMA model)\n",
    "\n"
   ]
  },
  {
   "cell_type": "code",
   "execution_count": 10,
   "id": "ecdfbdd9-024a-48e8-b4fb-448e6bbd3340",
   "metadata": {},
   "outputs": [
    {
     "data": {
      "text/html": [
       "<div>\n",
       "<style scoped>\n",
       "    .dataframe tbody tr th:only-of-type {\n",
       "        vertical-align: middle;\n",
       "    }\n",
       "\n",
       "    .dataframe tbody tr th {\n",
       "        vertical-align: top;\n",
       "    }\n",
       "\n",
       "    .dataframe thead th {\n",
       "        text-align: right;\n",
       "    }\n",
       "</style>\n",
       "<table border=\"1\" class=\"dataframe\">\n",
       "  <thead>\n",
       "    <tr style=\"text-align: right;\">\n",
       "      <th></th>\n",
       "      <th>Adj Close</th>\n",
       "    </tr>\n",
       "    <tr>\n",
       "      <th>Date</th>\n",
       "      <th></th>\n",
       "    </tr>\n",
       "  </thead>\n",
       "  <tbody>\n",
       "    <tr>\n",
       "      <th>2022-11-11</th>\n",
       "      <td>-3.060691</td>\n",
       "    </tr>\n",
       "    <tr>\n",
       "      <th>2022-11-14</th>\n",
       "      <td>-1.538798</td>\n",
       "    </tr>\n",
       "    <tr>\n",
       "      <th>2022-11-15</th>\n",
       "      <td>0.402723</td>\n",
       "    </tr>\n",
       "    <tr>\n",
       "      <th>2022-11-16</th>\n",
       "      <td>-0.820761</td>\n",
       "    </tr>\n",
       "    <tr>\n",
       "      <th>2022-11-17</th>\n",
       "      <td>0.931888</td>\n",
       "    </tr>\n",
       "  </tbody>\n",
       "</table>\n",
       "</div>"
      ],
      "text/plain": [
       "            Adj Close\n",
       "Date                 \n",
       "2022-11-11  -3.060691\n",
       "2022-11-14  -1.538798\n",
       "2022-11-15   0.402723\n",
       "2022-11-16  -0.820761\n",
       "2022-11-17   0.931888"
      ]
     },
     "execution_count": 10,
     "metadata": {},
     "output_type": "execute_result"
    }
   ],
   "source": [
    "# Create a series using \"Adj Close\" price percentage returns, drop any nan\"s, and check the results:\n",
    "# (Make sure to multiply the pct_change() results by 100)\n",
    "# In this case, you may have to replace inf, -inf values with np.nan\"s\n",
    "returns = (df[[\"Adj Close\"]].pct_change() * 100)\n",
    "returns = returns.replace(-np.inf, np.nan).dropna()\n",
    "returns.tail()"
   ]
  },
  {
   "cell_type": "code",
   "execution_count": 11,
   "id": "24a812dc-ccff-48cc-b975-1333997330d0",
   "metadata": {},
   "outputs": [],
   "source": [
    "import statsmodels.api as sm\n",
    "\n",
    "# Estimate and ARMA model using statsmodels (use order=(2, 1))\n",
    "from pmdarima.arima import auto_arima\n",
    "model = sm.tsa.arima.ARIMA(returns.values, order=(1,1,2))\n",
    "results = model.fit()\n",
    "\n",
    "\n",
    "# from statsmodels.tsa.arima.model import ARMA\n",
    "# model = ARMA(returns.values, order=(2,1))\n",
    "\n",
    "# # Fit the model and assign it to a variable called results\n",
    "# results = model.fit()\n",
    "\n"
   ]
  },
  {
   "cell_type": "code",
   "execution_count": 12,
   "id": "417fbaa3-bd90-4585-b087-1a633b708896",
   "metadata": {},
   "outputs": [
    {
     "data": {
      "text/html": [
       "<table class=\"simpletable\">\n",
       "<caption>SARIMAX Results</caption>\n",
       "<tr>\n",
       "  <th>Dep. Variable:</th>           <td>y</td>        <th>  No. Observations:  </th>   <td>5939</td>   \n",
       "</tr>\n",
       "<tr>\n",
       "  <th>Model:</th>            <td>ARIMA(1, 1, 2)</td>  <th>  Log Likelihood     </th> <td>-6349.514</td>\n",
       "</tr>\n",
       "<tr>\n",
       "  <th>Date:</th>            <td>Thu, 17 Nov 2022</td> <th>  AIC                </th> <td>12707.028</td>\n",
       "</tr>\n",
       "<tr>\n",
       "  <th>Time:</th>                <td>18:05:49</td>     <th>  BIC                </th> <td>12733.784</td>\n",
       "</tr>\n",
       "<tr>\n",
       "  <th>Sample:</th>                  <td>0</td>        <th>  HQIC               </th> <td>12716.324</td>\n",
       "</tr>\n",
       "<tr>\n",
       "  <th></th>                      <td> - 5939</td>     <th>                     </th>     <td> </td>    \n",
       "</tr>\n",
       "<tr>\n",
       "  <th>Covariance Type:</th>        <td>opg</td>       <th>                     </th>     <td> </td>    \n",
       "</tr>\n",
       "</table>\n",
       "<table class=\"simpletable\">\n",
       "<tr>\n",
       "     <td></td>       <th>coef</th>     <th>std err</th>      <th>z</th>      <th>P>|z|</th>  <th>[0.025</th>    <th>0.975]</th>  \n",
       "</tr>\n",
       "<tr>\n",
       "  <th>ar.L1</th>  <td>    0.0073</td> <td>    0.046</td> <td>    0.161</td> <td> 0.872</td> <td>   -0.082</td> <td>    0.097</td>\n",
       "</tr>\n",
       "<tr>\n",
       "  <th>ma.L1</th>  <td>   -1.1882</td> <td>    0.046</td> <td>  -26.060</td> <td> 0.000</td> <td>   -1.278</td> <td>   -1.099</td>\n",
       "</tr>\n",
       "<tr>\n",
       "  <th>ma.L2</th>  <td>    0.1884</td> <td>    0.046</td> <td>    4.125</td> <td> 0.000</td> <td>    0.099</td> <td>    0.278</td>\n",
       "</tr>\n",
       "<tr>\n",
       "  <th>sigma2</th> <td>    0.4963</td> <td>    0.002</td> <td>  272.639</td> <td> 0.000</td> <td>    0.493</td> <td>    0.500</td>\n",
       "</tr>\n",
       "</table>\n",
       "<table class=\"simpletable\">\n",
       "<tr>\n",
       "  <th>Ljung-Box (L1) (Q):</th>     <td>0.00</td> <th>  Jarque-Bera (JB):  </th> <td>2100079.43</td>\n",
       "</tr>\n",
       "<tr>\n",
       "  <th>Prob(Q):</th>                <td>0.98</td> <th>  Prob(JB):          </th>    <td>0.00</td>   \n",
       "</tr>\n",
       "<tr>\n",
       "  <th>Heteroskedasticity (H):</th> <td>0.87</td> <th>  Skew:              </th>    <td>1.79</td>   \n",
       "</tr>\n",
       "<tr>\n",
       "  <th>Prob(H) (two-sided):</th>    <td>0.00</td> <th>  Kurtosis:          </th>    <td>95.06</td>  \n",
       "</tr>\n",
       "</table><br/><br/>Warnings:<br/>[1] Covariance matrix calculated using the outer product of gradients (complex-step)."
      ],
      "text/plain": [
       "<class 'statsmodels.iolib.summary.Summary'>\n",
       "\"\"\"\n",
       "                               SARIMAX Results                                \n",
       "==============================================================================\n",
       "Dep. Variable:                      y   No. Observations:                 5939\n",
       "Model:                 ARIMA(1, 1, 2)   Log Likelihood               -6349.514\n",
       "Date:                Thu, 17 Nov 2022   AIC                          12707.028\n",
       "Time:                        18:05:49   BIC                          12733.784\n",
       "Sample:                             0   HQIC                         12716.324\n",
       "                               - 5939                                         \n",
       "Covariance Type:                  opg                                         \n",
       "==============================================================================\n",
       "                 coef    std err          z      P>|z|      [0.025      0.975]\n",
       "------------------------------------------------------------------------------\n",
       "ar.L1          0.0073      0.046      0.161      0.872      -0.082       0.097\n",
       "ma.L1         -1.1882      0.046    -26.060      0.000      -1.278      -1.099\n",
       "ma.L2          0.1884      0.046      4.125      0.000       0.099       0.278\n",
       "sigma2         0.4963      0.002    272.639      0.000       0.493       0.500\n",
       "===================================================================================\n",
       "Ljung-Box (L1) (Q):                   0.00   Jarque-Bera (JB):           2100079.43\n",
       "Prob(Q):                              0.98   Prob(JB):                         0.00\n",
       "Heteroskedasticity (H):               0.87   Skew:                             1.79\n",
       "Prob(H) (two-sided):                  0.00   Kurtosis:                        95.06\n",
       "===================================================================================\n",
       "\n",
       "Warnings:\n",
       "[1] Covariance matrix calculated using the outer product of gradients (complex-step).\n",
       "\"\"\""
      ]
     },
     "execution_count": 12,
     "metadata": {},
     "output_type": "execute_result"
    }
   ],
   "source": [
    "# Output model summary results:\n",
    "results.summary()\n",
    "# print(fitted.summary())\n"
   ]
  },
  {
   "cell_type": "code",
   "execution_count": 13,
   "id": "9789ae19-cb3c-4e53-aab3-e68084d70b7f",
   "metadata": {},
   "outputs": [
    {
     "data": {
      "image/png": "[encoded data removed]",
      "text/plain": [
       "<Figure size 432x288 with 1 Axes>"
      ]
     },
     "metadata": {
      "needs_background": "light"
     },
     "output_type": "display_data"
    }
   ],
   "source": [
    "# Plot the 5 Day Returns Forecast\n",
    "\n",
    "# one-step out-of sample forecast\n",
    "# forecast = results.forecast(step=5)[0].plot(title=\"5 Day Returns Forecast\")\n",
    "\n",
    "arma_plot = pd.DataFrame(results.forecast(steps=5)).plot(title=\"5 Day Returns Forecast\")\n",
    "arma_fig = arma_plot.get_figure()\n",
    "# arma_fig.savefig(\"./Images/Arma_Five_Days_Returns.png\")\n",
    "\n"
   ]
  },
  {
   "cell_type": "markdown",
   "id": "64f8c7b5-23be-4f33-909a-676a107f23d3",
   "metadata": {},
   "source": [
    "**Answer**\n",
    "\n",
    "In the summary table, the p-values for each lag are not statistically significant. The model is not a good fit given the p-value exceeds 0.05.\n"
   ]
  },
  {
   "cell_type": "markdown",
   "id": "d078aff4-0f53-4a3d-956a-3dad26839572",
   "metadata": {},
   "source": [
    "# Forecasting the Adj Close Price using an ARIMA Model\n",
    "\n",
    "    Using the raw Yen Adj Close Price, estimate an ARIMA model.\n",
    "        Set P=5, D=1, and Q=1 in the model (e.g., ARIMA(df, order=(5,1,1))\n",
    "        P= # of Auto-Regressive Lags, D= # of Differences (this is usually =1), Q= # of Moving Average Lags\n",
    "    Output the ARIMA summary table and take note of the p-values of the lags. Based on the p-values, is the model a good fit (p < 0.05)?\n",
    "    Construct a 5 day forecast for the Adj Close Price. What does the model forecast will happen to the Japanese Yen in the near term?\n",
    "\n"
   ]
  },
  {
   "cell_type": "code",
   "execution_count": 14,
   "id": "fd3dd4b2-527f-4d45-88d1-cd27820c04e7",
   "metadata": {},
   "outputs": [
    {
     "name": "stderr",
     "output_type": "stream",
     "text": [
      "C:\\Users\\Owner\\anaconda3\\envs\\CurrentMain\\lib\\site-packages\\statsmodels\\tsa\\base\\tsa_model.py:471: ValueWarning: A date index has been provided, but it has no associated frequency information and so will be ignored when e.g. forecasting.\n",
      "  self._init_dates(dates, freq)\n",
      "C:\\Users\\Owner\\anaconda3\\envs\\CurrentMain\\lib\\site-packages\\statsmodels\\tsa\\base\\tsa_model.py:471: ValueWarning: A date index has been provided, but it has no associated frequency information and so will be ignored when e.g. forecasting.\n",
      "  self._init_dates(dates, freq)\n",
      "C:\\Users\\Owner\\anaconda3\\envs\\CurrentMain\\lib\\site-packages\\statsmodels\\tsa\\base\\tsa_model.py:471: ValueWarning: A date index has been provided, but it has no associated frequency information and so will be ignored when e.g. forecasting.\n",
      "  self._init_dates(dates, freq)\n"
     ]
    }
   ],
   "source": [
    "# from statsmodels.tsa.arima_model import ARIMA\n",
    "from pmdarima.arima import auto_arima\n",
    "\n",
    "\n",
    "# Estimate and ARIMA Model:\n",
    "# Hint: ARIMA(df, order=(p, d, q))\n",
    "model = sm.tsa.arima.ARIMA(df['Adj Close'], order=(5,1,1))\n",
    "# Fit the model\n",
    "results_arima = model.fit()"
   ]
  },
  {
   "cell_type": "code",
   "execution_count": 15,
   "id": "f39f8926-9ebf-4d92-b8e5-76a9bb3e1654",
   "metadata": {},
   "outputs": [
    {
     "data": {
      "text/html": [
       "<table class=\"simpletable\">\n",
       "<caption>SARIMAX Results</caption>\n",
       "<tr>\n",
       "  <th>Dep. Variable:</th>       <td>Adj Close</td>    <th>  No. Observations:  </th>   <td>5940</td>   \n",
       "</tr>\n",
       "<tr>\n",
       "  <th>Model:</th>            <td>ARIMA(5, 1, 1)</td>  <th>  Log Likelihood     </th> <td>-6698.972</td>\n",
       "</tr>\n",
       "<tr>\n",
       "  <th>Date:</th>            <td>Thu, 17 Nov 2022</td> <th>  AIC                </th> <td>13411.943</td>\n",
       "</tr>\n",
       "<tr>\n",
       "  <th>Time:</th>                <td>18:05:50</td>     <th>  BIC                </th> <td>13458.769</td>\n",
       "</tr>\n",
       "<tr>\n",
       "  <th>Sample:</th>                  <td>0</td>        <th>  HQIC               </th> <td>13428.213</td>\n",
       "</tr>\n",
       "<tr>\n",
       "  <th></th>                      <td> - 5940</td>     <th>                     </th>     <td> </td>    \n",
       "</tr>\n",
       "<tr>\n",
       "  <th>Covariance Type:</th>        <td>opg</td>       <th>                     </th>     <td> </td>    \n",
       "</tr>\n",
       "</table>\n",
       "<table class=\"simpletable\">\n",
       "<tr>\n",
       "     <td></td>       <th>coef</th>     <th>std err</th>      <th>z</th>      <th>P>|z|</th>  <th>[0.025</th>    <th>0.975]</th>  \n",
       "</tr>\n",
       "<tr>\n",
       "  <th>ar.L1</th>  <td>   -0.0842</td> <td>    0.499</td> <td>   -0.169</td> <td> 0.866</td> <td>   -1.063</td> <td>    0.895</td>\n",
       "</tr>\n",
       "<tr>\n",
       "  <th>ar.L2</th>  <td>   -0.0137</td> <td>    0.084</td> <td>   -0.162</td> <td> 0.871</td> <td>   -0.179</td> <td>    0.152</td>\n",
       "</tr>\n",
       "<tr>\n",
       "  <th>ar.L3</th>  <td>    0.0174</td> <td>    0.016</td> <td>    1.064</td> <td> 0.287</td> <td>   -0.015</td> <td>    0.049</td>\n",
       "</tr>\n",
       "<tr>\n",
       "  <th>ar.L4</th>  <td>    0.0158</td> <td>    0.013</td> <td>    1.188</td> <td> 0.235</td> <td>   -0.010</td> <td>    0.042</td>\n",
       "</tr>\n",
       "<tr>\n",
       "  <th>ar.L5</th>  <td>   -0.0199</td> <td>    0.014</td> <td>   -1.397</td> <td> 0.163</td> <td>   -0.048</td> <td>    0.008</td>\n",
       "</tr>\n",
       "<tr>\n",
       "  <th>ma.L1</th>  <td>   -0.0858</td> <td>    0.501</td> <td>   -0.171</td> <td> 0.864</td> <td>   -1.067</td> <td>    0.896</td>\n",
       "</tr>\n",
       "<tr>\n",
       "  <th>sigma2</th> <td>    0.5588</td> <td>    0.002</td> <td>  229.541</td> <td> 0.000</td> <td>    0.554</td> <td>    0.564</td>\n",
       "</tr>\n",
       "</table>\n",
       "<table class=\"simpletable\">\n",
       "<tr>\n",
       "  <th>Ljung-Box (L1) (Q):</th>     <td>0.00</td> <th>  Jarque-Bera (JB):  </th> <td>1192779.61</td>\n",
       "</tr>\n",
       "<tr>\n",
       "  <th>Prob(Q):</th>                <td>1.00</td> <th>  Prob(JB):          </th>    <td>0.00</td>   \n",
       "</tr>\n",
       "<tr>\n",
       "  <th>Heteroskedasticity (H):</th> <td>0.87</td> <th>  Skew:              </th>    <td>0.45</td>   \n",
       "</tr>\n",
       "<tr>\n",
       "  <th>Prob(H) (two-sided):</th>    <td>0.00</td> <th>  Kurtosis:          </th>    <td>72.42</td>  \n",
       "</tr>\n",
       "</table><br/><br/>Warnings:<br/>[1] Covariance matrix calculated using the outer product of gradients (complex-step)."
      ],
      "text/plain": [
       "<class 'statsmodels.iolib.summary.Summary'>\n",
       "\"\"\"\n",
       "                               SARIMAX Results                                \n",
       "==============================================================================\n",
       "Dep. Variable:              Adj Close   No. Observations:                 5940\n",
       "Model:                 ARIMA(5, 1, 1)   Log Likelihood               -6698.972\n",
       "Date:                Thu, 17 Nov 2022   AIC                          13411.943\n",
       "Time:                        18:05:50   BIC                          13458.769\n",
       "Sample:                             0   HQIC                         13428.213\n",
       "                               - 5940                                         \n",
       "Covariance Type:                  opg                                         \n",
       "==============================================================================\n",
       "                 coef    std err          z      P>|z|      [0.025      0.975]\n",
       "------------------------------------------------------------------------------\n",
       "ar.L1         -0.0842      0.499     -0.169      0.866      -1.063       0.895\n",
       "ar.L2         -0.0137      0.084     -0.162      0.871      -0.179       0.152\n",
       "ar.L3          0.0174      0.016      1.064      0.287      -0.015       0.049\n",
       "ar.L4          0.0158      0.013      1.188      0.235      -0.010       0.042\n",
       "ar.L5         -0.0199      0.014     -1.397      0.163      -0.048       0.008\n",
       "ma.L1         -0.0858      0.501     -0.171      0.864      -1.067       0.896\n",
       "sigma2         0.5588      0.002    229.541      0.000       0.554       0.564\n",
       "===================================================================================\n",
       "Ljung-Box (L1) (Q):                   0.00   Jarque-Bera (JB):           1192779.61\n",
       "Prob(Q):                              1.00   Prob(JB):                         0.00\n",
       "Heteroskedasticity (H):               0.87   Skew:                             0.45\n",
       "Prob(H) (two-sided):                  0.00   Kurtosis:                        72.42\n",
       "===================================================================================\n",
       "\n",
       "Warnings:\n",
       "[1] Covariance matrix calculated using the outer product of gradients (complex-step).\n",
       "\"\"\""
      ]
     },
     "execution_count": 15,
     "metadata": {},
     "output_type": "execute_result"
    }
   ],
   "source": [
    "# Output model summary results:\n",
    "results_arima.summary()\n",
    "\n"
   ]
  },
  {
   "cell_type": "code",
   "execution_count": 16,
   "id": "07c36377-43e2-425a-a278-64c41ecf3525",
   "metadata": {},
   "outputs": [
    {
     "name": "stderr",
     "output_type": "stream",
     "text": [
      "C:\\Users\\Owner\\anaconda3\\envs\\CurrentMain\\lib\\site-packages\\statsmodels\\tsa\\base\\tsa_model.py:843: ValueWarning: No supported index is available. Prediction results will be given with an integer index beginning at `start`.\n",
      "  data=self.data,\n"
     ]
    },
    {
     "data": {
      "image/png": "[encoded data removed]",
      "text/plain": [
       "<Figure size 432x288 with 1 Axes>"
      ]
     },
     "metadata": {
      "needs_background": "light"
     },
     "output_type": "display_data"
    }
   ],
   "source": [
    "# Plot the 5 Day Price Forecast\n",
    "arima_plot=pd.DataFrame(results_arima.forecast(steps=5)).plot(title=\"5 Day Futures Price Forecast\")\n",
    "arima_fig = arima_plot.get_figure()\n",
    "# arima_fig.savefig(\"./Images/Arima_Five_Days_Returns.png\")\n",
    "\n"
   ]
  },
  {
   "cell_type": "markdown",
   "id": "407d8763-25a0-4110-a934-5b223f1c0403",
   "metadata": {},
   "source": [
    "**Answer**\n",
    "\n",
    "Again, based on the summary table, the p-values for each lag did not show to be statistically significant - none are less than 0.05. Based on the ARIMA model, we can see that an increase in the Yen over the dollar is expected for the 5 day period.\n"
   ]
  },
  {
   "cell_type": "markdown",
   "id": "b98f5ebb-1c3a-47ed-b291-4958f62efd99",
   "metadata": {},
   "source": [
    "# Volatility Forecasting with GARCH\n",
    "\n",
    "Rather than predicting returns, let's forecast near-term volatility of Japanese Yen futures returns. Being able to accurately predict volatility will be extremely useful if we want to trade in derivatives or quantify our maximum loss.\n",
    "\n",
    "Using futures Settle Returns, estimate an GARCH model\n",
    "\n",
    "    GARCH: Create an GARCH model and fit it to the returns data. Note: Set the parameters to p=2 and q=1: order=(2, 1).\n",
    "    Output the GARCH summary table and take note of the p-values of the lags. Based on the p-values, is the model a good fit (p < 0.05)?\n",
    "    Plot the 5-day forecast of the volatility.\n",
    "\n"
   ]
  },
  {
   "cell_type": "code",
   "execution_count": 17,
   "id": "ae65bfcf-a78b-4a3c-abc4-de597f907c7f",
   "metadata": {},
   "outputs": [],
   "source": [
    "import arch "
   ]
  },
  {
   "cell_type": "code",
   "execution_count": 18,
   "id": "20db8321-22f9-451f-91e3-b0ef8d4c5b6c",
   "metadata": {},
   "outputs": [],
   "source": [
    "# Estimate a GARCH model:\n",
    "from arch import arch_model\n",
    "model_garch = arch_model(returns, mean=\"Zero\", vol=\"GARCH\", p=2, q=1)\n",
    "\n",
    "# Fit the model\n",
    "results_garch = model_garch.fit(disp=\"off\")\n",
    "\n"
   ]
  },
  {
   "cell_type": "code",
   "execution_count": 19,
   "id": "8765aa10-798d-48dd-a8c6-fe30b39d07cf",
   "metadata": {},
   "outputs": [
    {
     "data": {
      "text/html": [
       "<table class=\"simpletable\">\n",
       "<caption>Zero Mean - GARCH Model Results</caption>\n",
       "<tr>\n",
       "  <th>Dep. Variable:</th>      <td>Adj Close</td>     <th>  R-squared:         </th>  <td>   0.000</td> \n",
       "</tr>\n",
       "<tr>\n",
       "  <th>Mean Model:</th>         <td>Zero Mean</td>     <th>  Adj. R-squared:    </th>  <td>   0.000</td> \n",
       "</tr>\n",
       "<tr>\n",
       "  <th>Vol Model:</th>            <td>GARCH</td>       <th>  Log-Likelihood:    </th> <td>  -5250.77</td>\n",
       "</tr>\n",
       "<tr>\n",
       "  <th>Distribution:</th>        <td>Normal</td>       <th>  AIC:               </th> <td>   10509.5</td>\n",
       "</tr>\n",
       "<tr>\n",
       "  <th>Method:</th>        <td>Maximum Likelihood</td> <th>  BIC:               </th> <td>   10536.3</td>\n",
       "</tr>\n",
       "<tr>\n",
       "  <th></th>                        <td></td>          <th>  No. Observations:  </th>    <td>5939</td>   \n",
       "</tr>\n",
       "<tr>\n",
       "  <th>Date:</th>           <td>Thu, Nov 17 2022</td>  <th>  Df Residuals:      </th>    <td>5939</td>   \n",
       "</tr>\n",
       "<tr>\n",
       "  <th>Time:</th>               <td>18:05:52</td>      <th>  Df Model:          </th>      <td>0</td>    \n",
       "</tr>\n",
       "</table>\n",
       "<table class=\"simpletable\">\n",
       "<caption>Volatility Model</caption>\n",
       "<tr>\n",
       "      <td></td>        <th>coef</th>     <th>std err</th>      <th>t</th>       <th>P>|t|</th>      <th>95.0% Conf. Int.</th>   \n",
       "</tr>\n",
       "<tr>\n",
       "  <th>omega</th>    <td>2.7640e-03</td> <td>1.836e-03</td> <td>    1.505</td> <td>    0.132</td> <td>[-8.344e-04,6.362e-03]</td>\n",
       "</tr>\n",
       "<tr>\n",
       "  <th>alpha[1]</th> <td>    0.0565</td> <td>1.471e-02</td> <td>    3.845</td> <td>1.205e-04</td>  <td>[2.772e-02,8.537e-02]</td>\n",
       "</tr>\n",
       "<tr>\n",
       "  <th>alpha[2]</th>   <td>0.0000</td>   <td>1.861e-02</td>   <td>0.000</td>   <td>    1.000</td> <td>[-3.647e-02,3.647e-02]</td>\n",
       "</tr>\n",
       "<tr>\n",
       "  <th>beta[1]</th>  <td>    0.9398</td> <td>1.692e-02</td> <td>   55.555</td>   <td>0.000</td>      <td>[  0.907,  0.973]</td>  \n",
       "</tr>\n",
       "</table><br/><br/>Covariance estimator: robust"
      ],
      "text/plain": [
       "<class 'statsmodels.iolib.summary.Summary'>\n",
       "\"\"\"\n",
       "                       Zero Mean - GARCH Model Results                        \n",
       "==============================================================================\n",
       "Dep. Variable:              Adj Close   R-squared:                       0.000\n",
       "Mean Model:                 Zero Mean   Adj. R-squared:                  0.000\n",
       "Vol Model:                      GARCH   Log-Likelihood:               -5250.77\n",
       "Distribution:                  Normal   AIC:                           10509.5\n",
       "Method:            Maximum Likelihood   BIC:                           10536.3\n",
       "                                        No. Observations:                 5939\n",
       "Date:                Thu, Nov 17 2022   Df Residuals:                     5939\n",
       "Time:                        18:05:52   Df Model:                            0\n",
       "                               Volatility Model                              \n",
       "=============================================================================\n",
       "                 coef    std err          t      P>|t|       95.0% Conf. Int.\n",
       "-----------------------------------------------------------------------------\n",
       "omega      2.7640e-03  1.836e-03      1.505      0.132 [-8.344e-04,6.362e-03]\n",
       "alpha[1]       0.0565  1.471e-02      3.845  1.205e-04  [2.772e-02,8.537e-02]\n",
       "alpha[2]       0.0000  1.861e-02      0.000      1.000 [-3.647e-02,3.647e-02]\n",
       "beta[1]        0.9398  1.692e-02     55.555      0.000      [  0.907,  0.973]\n",
       "=============================================================================\n",
       "\n",
       "Covariance estimator: robust\n",
       "\"\"\""
      ]
     },
     "execution_count": 19,
     "metadata": {},
     "output_type": "execute_result"
    }
   ],
   "source": [
    "# Summarize the model results\n",
    "results_garch.summary()"
   ]
  },
  {
   "cell_type": "code",
   "execution_count": 20,
   "id": "6dbfde79-ffb4-4be9-8531-f9885b23c05d",
   "metadata": {},
   "outputs": [
    {
     "data": {
      "text/plain": [
       "'2022-11-17'"
      ]
     },
     "execution_count": 20,
     "metadata": {},
     "output_type": "execute_result"
    }
   ],
   "source": [
    "# Find the last day of the dataset\n",
    "last_day = returns.index.max().strftime('%Y-%m-%d')\n",
    "last_day\n",
    "\n"
   ]
  },
  {
   "cell_type": "code",
   "execution_count": 21,
   "id": "415fb368-9645-4dbd-9d37-73ae662a017d",
   "metadata": {},
   "outputs": [],
   "source": [
    "# Create a 5 day forecast of volatility\n",
    "forecast_horizon = 5\n",
    "# Start the forecast using the last_day calculated above\n",
    "forecasts = results_garch.forecast(start=last_day, horizon=forecast_horizon, reindex=True)"
   ]
  },
  {
   "cell_type": "code",
   "execution_count": 22,
   "id": "35af2d65-810d-4364-9ea2-ffd56ef63e08",
   "metadata": {},
   "outputs": [
    {
     "data": {
      "text/html": [
       "<div>\n",
       "<style scoped>\n",
       "    .dataframe tbody tr th:only-of-type {\n",
       "        vertical-align: middle;\n",
       "    }\n",
       "\n",
       "    .dataframe tbody tr th {\n",
       "        vertical-align: top;\n",
       "    }\n",
       "\n",
       "    .dataframe thead th {\n",
       "        text-align: right;\n",
       "    }\n",
       "</style>\n",
       "<table border=\"1\" class=\"dataframe\">\n",
       "  <thead>\n",
       "    <tr style=\"text-align: right;\">\n",
       "      <th></th>\n",
       "      <th>h.1</th>\n",
       "      <th>h.2</th>\n",
       "      <th>h.3</th>\n",
       "      <th>h.4</th>\n",
       "      <th>h.5</th>\n",
       "    </tr>\n",
       "    <tr>\n",
       "      <th>Date</th>\n",
       "      <th></th>\n",
       "      <th></th>\n",
       "      <th></th>\n",
       "      <th></th>\n",
       "      <th></th>\n",
       "    </tr>\n",
       "  </thead>\n",
       "  <tbody>\n",
       "    <tr>\n",
       "      <th>2022-11-17</th>\n",
       "      <td>15.765507</td>\n",
       "      <td>15.758417</td>\n",
       "      <td>15.75135</td>\n",
       "      <td>15.744306</td>\n",
       "      <td>15.737285</td>\n",
       "    </tr>\n",
       "  </tbody>\n",
       "</table>\n",
       "</div>"
      ],
      "text/plain": [
       "                  h.1        h.2       h.3        h.4        h.5\n",
       "Date                                                            \n",
       "2022-11-17  15.765507  15.758417  15.75135  15.744306  15.737285"
      ]
     },
     "execution_count": 22,
     "metadata": {},
     "output_type": "execute_result"
    }
   ],
   "source": [
    "# Annualize the forecast\n",
    "intermediate = np.sqrt(forecasts.variance.dropna() * 252)\n",
    "intermediate.head()"
   ]
  },
  {
   "cell_type": "code",
   "execution_count": 23,
   "id": "f70b4701-3c7a-4c51-ae80-e8bfc3f0d329",
   "metadata": {},
   "outputs": [
    {
     "data": {
      "text/html": [
       "<div>\n",
       "<style scoped>\n",
       "    .dataframe tbody tr th:only-of-type {\n",
       "        vertical-align: middle;\n",
       "    }\n",
       "\n",
       "    .dataframe tbody tr th {\n",
       "        vertical-align: top;\n",
       "    }\n",
       "\n",
       "    .dataframe thead th {\n",
       "        text-align: right;\n",
       "    }\n",
       "</style>\n",
       "<table border=\"1\" class=\"dataframe\">\n",
       "  <thead>\n",
       "    <tr style=\"text-align: right;\">\n",
       "      <th>Date</th>\n",
       "      <th>2022-11-17</th>\n",
       "    </tr>\n",
       "  </thead>\n",
       "  <tbody>\n",
       "    <tr>\n",
       "      <th>h.1</th>\n",
       "      <td>15.765507</td>\n",
       "    </tr>\n",
       "    <tr>\n",
       "      <th>h.2</th>\n",
       "      <td>15.758417</td>\n",
       "    </tr>\n",
       "    <tr>\n",
       "      <th>h.3</th>\n",
       "      <td>15.751350</td>\n",
       "    </tr>\n",
       "    <tr>\n",
       "      <th>h.4</th>\n",
       "      <td>15.744306</td>\n",
       "    </tr>\n",
       "    <tr>\n",
       "      <th>h.5</th>\n",
       "      <td>15.737285</td>\n",
       "    </tr>\n",
       "  </tbody>\n",
       "</table>\n",
       "</div>"
      ],
      "text/plain": [
       "Date  2022-11-17\n",
       "h.1    15.765507\n",
       "h.2    15.758417\n",
       "h.3    15.751350\n",
       "h.4    15.744306\n",
       "h.5    15.737285"
      ]
     },
     "execution_count": 23,
     "metadata": {},
     "output_type": "execute_result"
    }
   ],
   "source": [
    "# Transpose the forecast so that it is easier to plot\n",
    "final = intermediate.dropna().T\n",
    "final.head()\n",
    "\n"
   ]
  },
  {
   "cell_type": "code",
   "execution_count": 24,
   "id": "6224b0f8-a5c7-4d8e-9f52-54dd98302f23",
   "metadata": {},
   "outputs": [
    {
     "data": {
      "image/png": "[encoded data removed]",
      "text/plain": [
       "<Figure size 432x288 with 1 Axes>"
      ]
     },
     "metadata": {
      "needs_background": "light"
     },
     "output_type": "display_data"
    }
   ],
   "source": [
    "# Plot the final forecast\n",
    "garch_plot=final.plot()\n",
    "garch_fig = garch_plot.get_figure()\n",
    "# garch_fig.savefig(\"./Images/Garch_forecast.png\")\n",
    "\n"
   ]
  },
  {
   "cell_type": "markdown",
   "id": "99fbcd63-7b31-447f-91e5-6aef5dda0a98",
   "metadata": {},
   "source": [
    "**Answer**\n",
    "\n",
    "Based on the GARCH forecast plot , volatility risk of the Yen will increase each day for the next 5 days."
   ]
  },
  {
   "cell_type": "markdown",
   "id": "150da409-337a-4a81-9261-968e021b854a",
   "metadata": {},
   "source": [
    "# Conclusions\n",
    "\n",
    "Based on your time series analysis, would you buy the yen now?\n",
    "\n",
    "Is the risk of the yen expected to increase or decrease?\n",
    "\n",
    "Based on the model evaluation, would you feel confident in using these models for trading?"
   ]
  },
  {
   "cell_type": "markdown",
   "id": "dae4f4ed-2aeb-489c-9505-5f160e7e0a59",
   "metadata": {},
   "source": [
    "**Answer**\n",
    "\n",
    "According to ARMA and ARIMA models, the Japanese Yen will increase relative to the US dollar, however, there might be an unreliable coefficient that might cause misleading result because the p-values are greater than 0.05. Thus, I would not buy the Japanese Yen.\n",
    "\n",
    "Based on the GARCH forcast, volatility risk of the Yen will increase each day.\n",
    "\n",
    "Again, due to p- values are not less than 0.05, I do not feel confident in using these models for trading."
   ]
  },
  {
   "cell_type": "code",
   "execution_count": null,
   "id": "64fd9dbc-8773-4c30-9e9e-41753f6cbde0",
   "metadata": {},
   "outputs": [],
   "source": []
  }
 ],
 "metadata": {
  "kernelspec": {
   "display_name": "Python [conda env:CurrentMain] *",
   "language": "python",
   "name": "conda-env-CurrentMain-py"
  },
  "language_info": {
   "codemirror_mode": {
    "name": "ipython",
    "version": 3
   },
   "file_extension": ".py",
   "mimetype": "text/x-python",
   "name": "python",
   "nbconvert_exporter": "python",
   "pygments_lexer": "ipython3",
   "version": "3.7.11"
  }
 },
 "nbformat": 4,
 "nbformat_minor": 5
}
