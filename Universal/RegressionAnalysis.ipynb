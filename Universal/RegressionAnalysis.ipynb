{
 "cells": [
  {
   "cell_type": "code",
   "execution_count": 1,
   "id": "e754ae6a-2065-4a11-a7af-bb28a96b56ce",
   "metadata": {},
   "outputs": [],
   "source": [
    "import numpy as np\n",
    "import pandas as pd\n",
    "from pathlib import Path\n",
    "%matplotlib inline\n",
    "import yfinance as yf\n",
    "\n",
    "import warnings\n",
    "warnings.filterwarnings(\"ignore\")"
   ]
  },
  {
   "cell_type": "markdown",
   "id": "b77a40a9-cda9-4a88-8216-f3318d97928e",
   "metadata": {},
   "source": [
    "# Regression Analysis: Seasonal Effects with Sklearn Linear Regression\n",
    "\n",
    "In this notebook, you will build a SKLearn linear regression model to predict Forex futures (\"Adj Close\") returns with lagged Forex futures returns.\n"
   ]
  },
  {
   "cell_type": "code",
   "execution_count": null,
   "id": "547513f9-ca0b-46c9-b3d5-ed90aeadcad4",
   "metadata": {},
   "outputs": [],
   "source": [
    "# Futures contract on the Foreign Exchange rate:\n",
    "# This is the continuous chain of the futures contracts that are 1 month to expiration\n",
    "\n",
    "name = (input(\"Enter ticker of your choice\").upper() + '=X')\n",
    "ticker = name.strip('=X')\n",
    "df = yf.download(name)\n",
    "df"
   ]
  },
  {
   "cell_type": "code",
   "execution_count": null,
   "id": "23e02061-ad15-42c2-a7af-4365a96f6ea1",
   "metadata": {},
   "outputs": [],
   "source": [
    "# Trim the dataset to begin on January 1st, 2000\n",
    "df = df.loc[\"2000-01-01\":, :]\n",
    "df.head()"
   ]
  },
  {
   "cell_type": "markdown",
   "id": "42058bee-d796-44ab-ba43-4b5992cd39c3",
   "metadata": {},
   "source": [
    "# Data Preparation\n",
    "**Returns**"
   ]
  },
  {
   "cell_type": "code",
   "execution_count": null,
   "id": "055f6345-c45c-4c73-aae3-c266972c1e3d",
   "metadata": {},
   "outputs": [],
   "source": [
    "# Create a series using \"Settle\" price percentage returns, drop any nan\"s, and check the results:\n",
    "# (Make sure to multiply the pct_change() results by 100)\n",
    "# In this case, you may have to replace inf, -inf values with np.nan\"s\n",
    "df['Return'] = (df[[\"Adj Close\"]].pct_change() * 100)\n",
    "returns = df.replace(-np.inf, np.nan).dropna()\n",
    "returns.tail()"
   ]
  },
  {
   "cell_type": "markdown",
   "id": "00970385-17e0-412a-a5ba-f5655bb19dee",
   "metadata": {},
   "source": [
    "# Lagged Returns"
   ]
  },
  {
   "cell_type": "code",
   "execution_count": null,
   "id": "9f824f74-4f0d-4809-8e54-4e89a3292997",
   "metadata": {},
   "outputs": [],
   "source": [
    "# Create a lagged return using the shift function\n",
    "df['Lagged_Return'] = df[\"Return\"].shift()\n",
    "df = df.dropna()\n",
    "df.tail()"
   ]
  },
  {
   "cell_type": "markdown",
   "id": "4c270744-05d9-4360-8ce2-1af983cff3f6",
   "metadata": {},
   "source": [
    "# Train Test Split"
   ]
  },
  {
   "cell_type": "code",
   "execution_count": null,
   "id": "7709ec3e-01ba-46cb-81a2-36e7649c09dd",
   "metadata": {},
   "outputs": [],
   "source": [
    "# Create a train/test split for the data using 2018- current for testing and the rest for training\n",
    "train = df[:'2017']\n",
    "test = df['2018':]"
   ]
  },
  {
   "cell_type": "code",
   "execution_count": null,
   "id": "2ddb5715-145f-412e-bb1f-5b84beee8d02",
   "metadata": {},
   "outputs": [],
   "source": [
    "# Create four dataframes:\n",
    "# X_train (training set using just the independent variables), X_test (test set of of just the independent variables)\n",
    "# Y_train (training set using just the \"y\" variable, i.e., \"Futures Return\"), Y_test (test set of just the \"y\" variable):\n",
    "X_train = train[\"Lagged_Return\"].to_frame()\n",
    "X_test = test[\"Lagged_Return\"].to_frame()\n",
    "y_train = train[\"Return\"]\n",
    "y_test = test[\"Return\"]"
   ]
  },
  {
   "cell_type": "code",
   "execution_count": null,
   "id": "b82d52e0-7f28-46b3-be7c-d043f6a1b407",
   "metadata": {},
   "outputs": [],
   "source": [
    "X_train"
   ]
  },
  {
   "cell_type": "markdown",
   "id": "5a7befef-b302-4ebf-a08a-8b1ab569ab95",
   "metadata": {},
   "source": [
    "# Linear Regression Model"
   ]
  },
  {
   "cell_type": "code",
   "execution_count": null,
   "id": "0591e985-a849-439c-a88f-be3f13e8f2f0",
   "metadata": {},
   "outputs": [],
   "source": [
    "# Create a Linear Regression model and fit it to the training data\n",
    "from sklearn.linear_model import LinearRegression\n",
    "\n",
    "# Fit a SKLearn linear regression using just the training set (X_train, Y_train):\n",
    "model = LinearRegression()\n",
    "model.fit(X_train, y_train)"
   ]
  },
  {
   "cell_type": "markdown",
   "id": "ef01837e-bd56-40e1-80c6-765cf22bc4a6",
   "metadata": {},
   "source": [
    "# Make predictions using the Testing Data\n",
    "\n",
    "Note: We want to evaluate the model using data that it has never seen before, in this case: X_test."
   ]
  },
  {
   "cell_type": "code",
   "execution_count": null,
   "id": "8841bbfe-ae51-4cad-aa2e-8ef6011ad556",
   "metadata": {},
   "outputs": [],
   "source": [
    "# Make a prediction of \"y\" values using just the test dataset\n",
    "predictions = model.predict(X_test)"
   ]
  },
  {
   "cell_type": "code",
   "execution_count": null,
   "id": "df1fd8f5-dffe-467f-89f4-9a23a0970ca7",
   "metadata": {},
   "outputs": [],
   "source": [
    "# Assemble actual y data (Y_test) with predicted y data (from just above) into two columns in a dataframe:\n",
    "Results = y_test.to_frame()\n",
    "Results[\"Predicted Return\"] = predictions"
   ]
  },
  {
   "cell_type": "code",
   "execution_count": null,
   "id": "ef2bc5e7-4207-457b-8b90-cf62678ee9ea",
   "metadata": {},
   "outputs": [],
   "source": [
    "import matplotlib.pyplot as plt\n",
    "# Plot the first 20 predictions vs the true values\n",
    "prediction_plot=Results[:20].plot(subplots=True)\n",
    "plt.savefig(\"Prediction_plot.png\")"
   ]
  },
  {
   "cell_type": "markdown",
   "id": "9d4e09af-3a49-48b1-a135-c406e25ad890",
   "metadata": {},
   "source": [
    "# Out-of-Sample Performance\n",
    "\n",
    "Evaluate the model using \"out-of-sample\" data (X_test and y_test)\n"
   ]
  },
  {
   "cell_type": "code",
   "execution_count": null,
   "id": "70081108-04c5-430f-a6de-7511c2bbfa02",
   "metadata": {},
   "outputs": [],
   "source": [
    "from sklearn.metrics import mean_squared_error\n",
    "# Calculate the mean_squared_error (MSE) on actual versus predicted test \"y\" \n",
    "mse = mean_squared_error(\n",
    "    Results[\"Return\"],\n",
    "    Results[\"Predicted Return\"]\n",
    ")\n",
    "\n",
    "# Using that mean-squared-error, calculate the root-mean-squared error (RMSE):\n",
    "rmse = np.sqrt(mse)\n",
    "print(f\"Out-of-Sample Root Mean Squared Error (RMSE): {rmse}\")\n",
    "\n"
   ]
  },
  {
   "cell_type": "markdown",
   "id": "60f4947d-51da-42a8-9e91-e3bbd173a9a2",
   "metadata": {},
   "source": [
    "# In-Sample Performance\n",
    "\n",
    "Evaluate the model using in-sample data (X_train and y_train)\n"
   ]
  },
  {
   "cell_type": "code",
   "execution_count": null,
   "id": "8cc65d61-684a-47b1-8455-98413839e1fd",
   "metadata": {},
   "outputs": [],
   "source": [
    "# Construct a dataframe using just the \"y\" training data:\n",
    "in_sample_results = y_train.to_frame()\n",
    "\n",
    "# Add a column of \"in-sample\" predictions to that dataframe:  \n",
    "in_sample_results[\"In-sample Predictions\"] = model.predict(X_train)\n",
    "\n",
    "# Calculate in-sample mean_squared_error (for comparison to out-of-sample)\n",
    "in_sample_mse = mean_squared_error(\n",
    "    in_sample_results[\"Return\"],\n",
    "    in_sample_results[\"In-sample Predictions\"]\n",
    ")\n",
    "\n",
    "# Calculate in-sample root mean_squared_error (for comparison to out-of-sample)\n",
    "in_sample_rmse = np.sqrt(in_sample_mse)\n",
    "print(f\"In-sample Root Mean Squared Error (RMSE): {in_sample_rmse}\")"
   ]
  },
  {
   "cell_type": "code",
   "execution_count": null,
   "id": "2ffaea4b-efd6-4e03-b8db-a59d1c68df37",
   "metadata": {},
   "outputs": [],
   "source": []
  },
  {
   "cell_type": "code",
   "execution_count": null,
   "id": "07fa56ea-24cf-4240-a154-62f0a6a80ba4",
   "metadata": {},
   "outputs": [],
   "source": []
  }
 ],
 "metadata": {
  "kernelspec": {
   "display_name": "Python [conda env:CurrentMain] *",
   "language": "python",
   "name": "conda-env-CurrentMain-py"
  },
  "language_info": {
   "codemirror_mode": {
    "name": "ipython",
    "version": 3
   },
   "file_extension": ".py",
   "mimetype": "text/x-python",
   "name": "python",
   "nbconvert_exporter": "python",
   "pygments_lexer": "ipython3",
   "version": "3.7.11"
  }
 },
 "nbformat": 4,
 "nbformat_minor": 5
}
