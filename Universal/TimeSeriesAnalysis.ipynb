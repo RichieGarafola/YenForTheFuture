{
 "cells": [
  {
   "cell_type": "code",
   "execution_count": 1,
   "id": "ff79625e-19d7-48be-a6b8-7f221deda2ff",
   "metadata": {},
   "outputs": [],
   "source": [
    "import numpy as np\n",
    "import pandas as pd\n",
    "from pathlib import Path\n",
    "%matplotlib inline\n",
    "import yfinance as yf"
   ]
  },
  {
   "cell_type": "markdown",
   "id": "80221464-4ed2-428d-9840-2e7925b54308",
   "metadata": {},
   "source": [
    "# Return Forecasting: Read Historical Daily Forex Futures Data\n",
    "\n",
    "In this notebook, you will load historical Foreign Exchange rate futures data from the Yahoo Finance API and apply time series analysis and modeling to determine whether there is any predictable behavior.\n"
   ]
  },
  {
   "cell_type": "code",
   "execution_count": 2,
   "id": "e43df923-8277-4120-84d3-744ed75aad69",
   "metadata": {},
   "outputs": [
    {
     "name": "stdin",
     "output_type": "stream",
     "text": [
      "Enter ticker of your choice eurusd\n"
     ]
    },
    {
     "name": "stdout",
     "output_type": "stream",
     "text": [
      "[*********************100%***********************]  1 of 1 completed\n"
     ]
    },
    {
     "data": {
      "text/html": [
       "<div>\n",
       "<style scoped>\n",
       "    .dataframe tbody tr th:only-of-type {\n",
       "        vertical-align: middle;\n",
       "    }\n",
       "\n",
       "    .dataframe tbody tr th {\n",
       "        vertical-align: top;\n",
       "    }\n",
       "\n",
       "    .dataframe thead th {\n",
       "        text-align: right;\n",
       "    }\n",
       "</style>\n",
       "<table border=\"1\" class=\"dataframe\">\n",
       "  <thead>\n",
       "    <tr style=\"text-align: right;\">\n",
       "      <th></th>\n",
       "      <th>Open</th>\n",
       "      <th>High</th>\n",
       "      <th>Low</th>\n",
       "      <th>Close</th>\n",
       "      <th>Adj Close</th>\n",
       "      <th>Volume</th>\n",
       "    </tr>\n",
       "    <tr>\n",
       "      <th>Date</th>\n",
       "      <th></th>\n",
       "      <th></th>\n",
       "      <th></th>\n",
       "      <th></th>\n",
       "      <th></th>\n",
       "      <th></th>\n",
       "    </tr>\n",
       "  </thead>\n",
       "  <tbody>\n",
       "    <tr>\n",
       "      <th>2003-12-01</th>\n",
       "      <td>1.203398</td>\n",
       "      <td>1.204007</td>\n",
       "      <td>1.194401</td>\n",
       "      <td>1.196501</td>\n",
       "      <td>1.196501</td>\n",
       "      <td>0</td>\n",
       "    </tr>\n",
       "    <tr>\n",
       "      <th>2003-12-02</th>\n",
       "      <td>1.196101</td>\n",
       "      <td>1.210903</td>\n",
       "      <td>1.194600</td>\n",
       "      <td>1.208897</td>\n",
       "      <td>1.208897</td>\n",
       "      <td>0</td>\n",
       "    </tr>\n",
       "    <tr>\n",
       "      <th>2003-12-03</th>\n",
       "      <td>1.209000</td>\n",
       "      <td>1.213003</td>\n",
       "      <td>1.207700</td>\n",
       "      <td>1.212298</td>\n",
       "      <td>1.212298</td>\n",
       "      <td>0</td>\n",
       "    </tr>\n",
       "    <tr>\n",
       "      <th>2003-12-04</th>\n",
       "      <td>1.212004</td>\n",
       "      <td>1.214403</td>\n",
       "      <td>1.204398</td>\n",
       "      <td>1.208094</td>\n",
       "      <td>1.208094</td>\n",
       "      <td>0</td>\n",
       "    </tr>\n",
       "    <tr>\n",
       "      <th>2003-12-05</th>\n",
       "      <td>1.207802</td>\n",
       "      <td>1.219096</td>\n",
       "      <td>1.206593</td>\n",
       "      <td>1.218695</td>\n",
       "      <td>1.218695</td>\n",
       "      <td>0</td>\n",
       "    </tr>\n",
       "    <tr>\n",
       "      <th>...</th>\n",
       "      <td>...</td>\n",
       "      <td>...</td>\n",
       "      <td>...</td>\n",
       "      <td>...</td>\n",
       "      <td>...</td>\n",
       "      <td>...</td>\n",
       "    </tr>\n",
       "    <tr>\n",
       "      <th>2022-11-14</th>\n",
       "      <td>1.032855</td>\n",
       "      <td>1.035025</td>\n",
       "      <td>1.027359</td>\n",
       "      <td>1.032855</td>\n",
       "      <td>1.032855</td>\n",
       "      <td>0</td>\n",
       "    </tr>\n",
       "    <tr>\n",
       "      <th>2022-11-15</th>\n",
       "      <td>1.031928</td>\n",
       "      <td>1.047548</td>\n",
       "      <td>1.031385</td>\n",
       "      <td>1.031928</td>\n",
       "      <td>1.031928</td>\n",
       "      <td>0</td>\n",
       "    </tr>\n",
       "    <tr>\n",
       "      <th>2022-11-16</th>\n",
       "      <td>1.035786</td>\n",
       "      <td>1.043732</td>\n",
       "      <td>1.033645</td>\n",
       "      <td>1.035786</td>\n",
       "      <td>1.035786</td>\n",
       "      <td>0</td>\n",
       "    </tr>\n",
       "    <tr>\n",
       "      <th>2022-11-17</th>\n",
       "      <td>1.039501</td>\n",
       "      <td>1.040572</td>\n",
       "      <td>1.030949</td>\n",
       "      <td>1.039501</td>\n",
       "      <td>1.039501</td>\n",
       "      <td>0</td>\n",
       "    </tr>\n",
       "    <tr>\n",
       "      <th>2022-11-18</th>\n",
       "      <td>1.036592</td>\n",
       "      <td>1.039609</td>\n",
       "      <td>1.034661</td>\n",
       "      <td>1.037560</td>\n",
       "      <td>1.037560</td>\n",
       "      <td>0</td>\n",
       "    </tr>\n",
       "  </tbody>\n",
       "</table>\n",
       "<p>4921 rows × 6 columns</p>\n",
       "</div>"
      ],
      "text/plain": [
       "                Open      High       Low     Close  Adj Close  Volume\n",
       "Date                                                                 \n",
       "2003-12-01  1.203398  1.204007  1.194401  1.196501   1.196501       0\n",
       "2003-12-02  1.196101  1.210903  1.194600  1.208897   1.208897       0\n",
       "2003-12-03  1.209000  1.213003  1.207700  1.212298   1.212298       0\n",
       "2003-12-04  1.212004  1.214403  1.204398  1.208094   1.208094       0\n",
       "2003-12-05  1.207802  1.219096  1.206593  1.218695   1.218695       0\n",
       "...              ...       ...       ...       ...        ...     ...\n",
       "2022-11-14  1.032855  1.035025  1.027359  1.032855   1.032855       0\n",
       "2022-11-15  1.031928  1.047548  1.031385  1.031928   1.031928       0\n",
       "2022-11-16  1.035786  1.043732  1.033645  1.035786   1.035786       0\n",
       "2022-11-17  1.039501  1.040572  1.030949  1.039501   1.039501       0\n",
       "2022-11-18  1.036592  1.039609  1.034661  1.037560   1.037560       0\n",
       "\n",
       "[4921 rows x 6 columns]"
      ]
     },
     "execution_count": 2,
     "metadata": {},
     "output_type": "execute_result"
    }
   ],
   "source": [
    "# Futures contract on the dollar-Yen exchange rate:\n",
    "# This is the continuous chain of the futures contracts that are 1 month to expiration\n",
    "name = (input(\"Enter ticker of your choice\").upper() + '=X')\n",
    "ticker = name.strip('=X')\n",
    "df = yf.download(name)\n",
    "df"
   ]
  },
  {
   "cell_type": "code",
   "execution_count": 3,
   "id": "fc8cad1d-85e7-4090-8668-b87312dbaa66",
   "metadata": {},
   "outputs": [
    {
     "data": {
      "text/html": [
       "<div>\n",
       "<style scoped>\n",
       "    .dataframe tbody tr th:only-of-type {\n",
       "        vertical-align: middle;\n",
       "    }\n",
       "\n",
       "    .dataframe tbody tr th {\n",
       "        vertical-align: top;\n",
       "    }\n",
       "\n",
       "    .dataframe thead th {\n",
       "        text-align: right;\n",
       "    }\n",
       "</style>\n",
       "<table border=\"1\" class=\"dataframe\">\n",
       "  <thead>\n",
       "    <tr style=\"text-align: right;\">\n",
       "      <th></th>\n",
       "      <th>Open</th>\n",
       "      <th>High</th>\n",
       "      <th>Low</th>\n",
       "      <th>Close</th>\n",
       "      <th>Adj Close</th>\n",
       "      <th>Volume</th>\n",
       "    </tr>\n",
       "    <tr>\n",
       "      <th>Date</th>\n",
       "      <th></th>\n",
       "      <th></th>\n",
       "      <th></th>\n",
       "      <th></th>\n",
       "      <th></th>\n",
       "      <th></th>\n",
       "    </tr>\n",
       "  </thead>\n",
       "  <tbody>\n",
       "    <tr>\n",
       "      <th>2003-12-01</th>\n",
       "      <td>1.203398</td>\n",
       "      <td>1.204007</td>\n",
       "      <td>1.194401</td>\n",
       "      <td>1.196501</td>\n",
       "      <td>1.196501</td>\n",
       "      <td>0</td>\n",
       "    </tr>\n",
       "    <tr>\n",
       "      <th>2003-12-02</th>\n",
       "      <td>1.196101</td>\n",
       "      <td>1.210903</td>\n",
       "      <td>1.194600</td>\n",
       "      <td>1.208897</td>\n",
       "      <td>1.208897</td>\n",
       "      <td>0</td>\n",
       "    </tr>\n",
       "    <tr>\n",
       "      <th>2003-12-03</th>\n",
       "      <td>1.209000</td>\n",
       "      <td>1.213003</td>\n",
       "      <td>1.207700</td>\n",
       "      <td>1.212298</td>\n",
       "      <td>1.212298</td>\n",
       "      <td>0</td>\n",
       "    </tr>\n",
       "    <tr>\n",
       "      <th>2003-12-04</th>\n",
       "      <td>1.212004</td>\n",
       "      <td>1.214403</td>\n",
       "      <td>1.204398</td>\n",
       "      <td>1.208094</td>\n",
       "      <td>1.208094</td>\n",
       "      <td>0</td>\n",
       "    </tr>\n",
       "    <tr>\n",
       "      <th>2003-12-05</th>\n",
       "      <td>1.207802</td>\n",
       "      <td>1.219096</td>\n",
       "      <td>1.206593</td>\n",
       "      <td>1.218695</td>\n",
       "      <td>1.218695</td>\n",
       "      <td>0</td>\n",
       "    </tr>\n",
       "  </tbody>\n",
       "</table>\n",
       "</div>"
      ],
      "text/plain": [
       "                Open      High       Low     Close  Adj Close  Volume\n",
       "Date                                                                 \n",
       "2003-12-01  1.203398  1.204007  1.194401  1.196501   1.196501       0\n",
       "2003-12-02  1.196101  1.210903  1.194600  1.208897   1.208897       0\n",
       "2003-12-03  1.209000  1.213003  1.207700  1.212298   1.212298       0\n",
       "2003-12-04  1.212004  1.214403  1.204398  1.208094   1.208094       0\n",
       "2003-12-05  1.207802  1.219096  1.206593  1.218695   1.218695       0"
      ]
     },
     "execution_count": 3,
     "metadata": {},
     "output_type": "execute_result"
    }
   ],
   "source": [
    "# Trim the dataset to begin on January 1st, 2000\n",
    "df = df.loc[\"2000-01-01\":, :]\n",
    "df.head()"
   ]
  },
  {
   "cell_type": "markdown",
   "id": "dda663f0-5621-40a3-a410-2ae530cf8311",
   "metadata": {},
   "source": [
    "# Return Forecasting: Initial Time-Series Plotting\n",
    "\n",
    "Start by plotting the \"Adj Close\" price. Do you see any patterns, long-term and/or short?"
   ]
  },
  {
   "cell_type": "code",
   "execution_count": 4,
   "id": "f4f892d2-8361-4367-b9a7-30efb0ef8a50",
   "metadata": {},
   "outputs": [
    {
     "data": {
      "image/png": "[encoded data removed]",
      "text/plain": [
       "<Figure size 864x576 with 1 Axes>"
      ]
     },
     "metadata": {
      "needs_background": "light"
     },
     "output_type": "display_data"
    }
   ],
   "source": [
    "# Plot just the \"Adj Close\" column from the dataframe:\n",
    "df_plot=df['Adj Close'].plot(title = f\"{ticker} Futures Adj Close Prices\",figsize=(12,8),legend=True)\n",
    "df_fig = df_plot.get_figure()\n",
    "# df_fig.savefig(\"./Images/Future_AdjClose_Prices.png\")"
   ]
  },
  {
   "cell_type": "markdown",
   "id": "1c7ac7b9-3af6-49dc-8a66-a1f8040f340f",
   "metadata": {},
   "source": [
    "\n"
   ]
  },
  {
   "cell_type": "markdown",
   "id": "76766096-d37f-4307-bbb9-9b6ea26dcab6",
   "metadata": {},
   "source": [
    "# Decomposition Using a Hodrick-Prescott Filter\n",
    "\n",
    "Using a Hodrick-Prescott Filter, decompose the Adj Close price into a trend and noise."
   ]
  },
  {
   "cell_type": "code",
   "execution_count": 5,
   "id": "a5fd82ef-5d5e-48f1-b429-8ab9ea66575c",
   "metadata": {},
   "outputs": [],
   "source": [
    "import statsmodels.api as sm\n",
    "\n",
    "# Apply the Hodrick-Prescott Filter by decomposing the \"Adj Close\" price into two separate series:\n",
    "settle_noise, settle_trend = sm.tsa.filters.hpfilter(df['Adj Close'])"
   ]
  },
  {
   "cell_type": "code",
   "execution_count": 6,
   "id": "4d3a1c44-c335-41bc-8776-303187fc7ab5",
   "metadata": {},
   "outputs": [
    {
     "data": {
      "text/html": [
       "<div>\n",
       "<style scoped>\n",
       "    .dataframe tbody tr th:only-of-type {\n",
       "        vertical-align: middle;\n",
       "    }\n",
       "\n",
       "    .dataframe tbody tr th {\n",
       "        vertical-align: top;\n",
       "    }\n",
       "\n",
       "    .dataframe thead th {\n",
       "        text-align: right;\n",
       "    }\n",
       "</style>\n",
       "<table border=\"1\" class=\"dataframe\">\n",
       "  <thead>\n",
       "    <tr style=\"text-align: right;\">\n",
       "      <th></th>\n",
       "      <th>Adj Close</th>\n",
       "      <th>noise</th>\n",
       "      <th>trend</th>\n",
       "    </tr>\n",
       "    <tr>\n",
       "      <th>Date</th>\n",
       "      <th></th>\n",
       "      <th></th>\n",
       "      <th></th>\n",
       "    </tr>\n",
       "  </thead>\n",
       "  <tbody>\n",
       "    <tr>\n",
       "      <th>2003-12-01</th>\n",
       "      <td>1.196501</td>\n",
       "      <td>-0.008697</td>\n",
       "      <td>1.205198</td>\n",
       "    </tr>\n",
       "    <tr>\n",
       "      <th>2003-12-02</th>\n",
       "      <td>1.208897</td>\n",
       "      <td>0.001034</td>\n",
       "      <td>1.207864</td>\n",
       "    </tr>\n",
       "    <tr>\n",
       "      <th>2003-12-03</th>\n",
       "      <td>1.212298</td>\n",
       "      <td>0.001773</td>\n",
       "      <td>1.210524</td>\n",
       "    </tr>\n",
       "    <tr>\n",
       "      <th>2003-12-04</th>\n",
       "      <td>1.208094</td>\n",
       "      <td>-0.005081</td>\n",
       "      <td>1.213175</td>\n",
       "    </tr>\n",
       "    <tr>\n",
       "      <th>2003-12-05</th>\n",
       "      <td>1.218695</td>\n",
       "      <td>0.002883</td>\n",
       "      <td>1.215811</td>\n",
       "    </tr>\n",
       "  </tbody>\n",
       "</table>\n",
       "</div>"
      ],
      "text/plain": [
       "            Adj Close     noise     trend\n",
       "Date                                     \n",
       "2003-12-01   1.196501 -0.008697  1.205198\n",
       "2003-12-02   1.208897  0.001034  1.207864\n",
       "2003-12-03   1.212298  0.001773  1.210524\n",
       "2003-12-04   1.208094 -0.005081  1.213175\n",
       "2003-12-05   1.218695  0.002883  1.215811"
      ]
     },
     "execution_count": 6,
     "metadata": {},
     "output_type": "execute_result"
    }
   ],
   "source": [
    "# Create a dataframe of just the Adj Close price, and add columns for \"noise\" and \"trend\" series from above:\n",
    "df_ticker_futures = df[['Adj Close']].copy()\n",
    "df_ticker_futures['noise'] = settle_noise\n",
    "df_ticker_futures['trend'] = settle_trend\n",
    "df_ticker_futures.head()\n",
    "\n"
   ]
  },
  {
   "cell_type": "code",
   "execution_count": 7,
   "id": "a4fd0f12-329c-41aa-960f-0cdb29bf7e58",
   "metadata": {},
   "outputs": [
    {
     "data": {
      "image/png": "[encoded data removed]",
      "text/plain": [
       "<Figure size 864x576 with 1 Axes>"
      ]
     },
     "metadata": {
      "needs_background": "light"
     },
     "output_type": "display_data"
    }
   ],
   "source": [
    "# Plot the Adj Close Price vs. the Trend for 2015 to the present\n",
    "settle_trend_plot=df_ticker_futures['2015':].plot(y=['Adj Close','trend'],title=\"Adj Close vs Trend\",figsize=(12,8),legend=True)\n",
    "settle_trend_fig = settle_trend_plot.get_figure()\n",
    "# settle_trend_fig.savefig(\"./Images/Adj Close vs Trend.png\")\n",
    "\n"
   ]
  },
  {
   "cell_type": "code",
   "execution_count": 8,
   "id": "65964aa2-48e6-434d-bd89-349974667482",
   "metadata": {},
   "outputs": [
    {
     "data": {
      "image/png": "[encoded data removed]",
      "text/plain": [
       "<Figure size 864x576 with 1 Axes>"
      ]
     },
     "metadata": {
      "needs_background": "light"
     },
     "output_type": "display_data"
    }
   ],
   "source": [
    "# Plot the Adj Close Noise\n",
    "noise_plot=df_ticker_futures.plot(y=['noise'],title=\"Noise\",figsize=(12,8),legend=False)\n",
    "noise_fig = noise_plot.get_figure()\n",
    "# noise_fig.savefig(\"./Images/Noise.png\")"
   ]
  },
  {
   "cell_type": "markdown",
   "id": "021806f4-9aab-44e1-9ca2-35f259e1e918",
   "metadata": {},
   "source": [
    "**Answer**\n",
    "\n",
    "In the the Adj Close Price vs. the Trend plot, It seems that there are a lot of short term fluctuations that deviate around the trend. The Noise plot gave us a visualization of where the most noise is on this chart. These points can be correllated with volatile periods in the market."
   ]
  },
  {
   "cell_type": "markdown",
   "id": "4afc7870-b0b1-4cfb-8141-8848b6efe251",
   "metadata": {},
   "source": [
    "# Forecasting Returns using an ARMA Model\n",
    "\n",
    "Using futures Adj Close Returns, estimate an ARMA model\n",
    "\n",
    "    - ARMA: Create an ARMA model and fit it to the returns data. Note: Set the AR and MA (\"p\" and \"q\") parameters to p=2 and q=1: order=(2,1). \n",
    "    - Output the ARMA summary table and take note of the p-values of the lags. Based on the p-values, is the model a good fit (p < 0.05)?\n",
    "    - Plot the 5-day forecast of the forecasted returns (the results forecast from ARMA model)\n",
    "\n"
   ]
  },
  {
   "cell_type": "code",
   "execution_count": 9,
   "id": "ecdfbdd9-024a-48e8-b4fb-448e6bbd3340",
   "metadata": {},
   "outputs": [
    {
     "data": {
      "text/html": [
       "<div>\n",
       "<style scoped>\n",
       "    .dataframe tbody tr th:only-of-type {\n",
       "        vertical-align: middle;\n",
       "    }\n",
       "\n",
       "    .dataframe tbody tr th {\n",
       "        vertical-align: top;\n",
       "    }\n",
       "\n",
       "    .dataframe thead th {\n",
       "        text-align: right;\n",
       "    }\n",
       "</style>\n",
       "<table border=\"1\" class=\"dataframe\">\n",
       "  <thead>\n",
       "    <tr style=\"text-align: right;\">\n",
       "      <th></th>\n",
       "      <th>Adj Close</th>\n",
       "    </tr>\n",
       "    <tr>\n",
       "      <th>Date</th>\n",
       "      <th></th>\n",
       "    </tr>\n",
       "  </thead>\n",
       "  <tbody>\n",
       "    <tr>\n",
       "      <th>2022-11-14</th>\n",
       "      <td>1.337554</td>\n",
       "    </tr>\n",
       "    <tr>\n",
       "      <th>2022-11-15</th>\n",
       "      <td>-0.089783</td>\n",
       "    </tr>\n",
       "    <tr>\n",
       "      <th>2022-11-16</th>\n",
       "      <td>0.373918</td>\n",
       "    </tr>\n",
       "    <tr>\n",
       "      <th>2022-11-17</th>\n",
       "      <td>0.358634</td>\n",
       "    </tr>\n",
       "    <tr>\n",
       "      <th>2022-11-18</th>\n",
       "      <td>-0.186767</td>\n",
       "    </tr>\n",
       "  </tbody>\n",
       "</table>\n",
       "</div>"
      ],
      "text/plain": [
       "            Adj Close\n",
       "Date                 \n",
       "2022-11-14   1.337554\n",
       "2022-11-15  -0.089783\n",
       "2022-11-16   0.373918\n",
       "2022-11-17   0.358634\n",
       "2022-11-18  -0.186767"
      ]
     },
     "execution_count": 9,
     "metadata": {},
     "output_type": "execute_result"
    }
   ],
   "source": [
    "# Create a series using \"Adj Close\" price percentage returns, drop any nan\"s, and check the results:\n",
    "# (Make sure to multiply the pct_change() results by 100)\n",
    "# In this case, you may have to replace inf, -inf values with np.nan\"s\n",
    "returns = (df[[\"Adj Close\"]].pct_change() * 100)\n",
    "returns = returns.replace(-np.inf, np.nan).dropna()\n",
    "returns.tail()"
   ]
  },
  {
   "cell_type": "code",
   "execution_count": 10,
   "id": "24a812dc-ccff-48cc-b975-1333997330d0",
   "metadata": {},
   "outputs": [],
   "source": [
    "import statsmodels.api as sm\n",
    "\n",
    "# Estimate and ARMA model using statsmodels (use order=(2, 1))\n",
    "from pmdarima.arima import auto_arima\n",
    "model = sm.tsa.arima.ARIMA(returns.values, order=(1,1,2))\n",
    "results = model.fit()\n",
    "\n",
    "\n",
    "# from statsmodels.tsa.arima.model import ARMA\n",
    "# model = ARMA(returns.values, order=(2,1))\n",
    "\n",
    "# # Fit the model and assign it to a variable called results\n",
    "# results = model.fit()\n",
    "\n"
   ]
  },
  {
   "cell_type": "code",
   "execution_count": 11,
   "id": "417fbaa3-bd90-4585-b087-1a633b708896",
   "metadata": {},
   "outputs": [
    {
     "data": {
      "text/html": [
       "<table class=\"simpletable\">\n",
       "<caption>SARIMAX Results</caption>\n",
       "<tr>\n",
       "  <th>Dep. Variable:</th>           <td>y</td>        <th>  No. Observations:  </th>   <td>4920</td>   \n",
       "</tr>\n",
       "<tr>\n",
       "  <th>Model:</th>            <td>ARIMA(1, 1, 2)</td>  <th>  Log Likelihood     </th> <td>-5348.221</td>\n",
       "</tr>\n",
       "<tr>\n",
       "  <th>Date:</th>            <td>Fri, 18 Nov 2022</td> <th>  AIC                </th> <td>10704.442</td>\n",
       "</tr>\n",
       "<tr>\n",
       "  <th>Time:</th>                <td>08:20:58</td>     <th>  BIC                </th> <td>10730.445</td>\n",
       "</tr>\n",
       "<tr>\n",
       "  <th>Sample:</th>                  <td>0</td>        <th>  HQIC               </th> <td>10713.563</td>\n",
       "</tr>\n",
       "<tr>\n",
       "  <th></th>                      <td> - 4920</td>     <th>                     </th>     <td> </td>    \n",
       "</tr>\n",
       "<tr>\n",
       "  <th>Covariance Type:</th>        <td>opg</td>       <th>                     </th>     <td> </td>    \n",
       "</tr>\n",
       "</table>\n",
       "<table class=\"simpletable\">\n",
       "<tr>\n",
       "     <td></td>       <th>coef</th>     <th>std err</th>      <th>z</th>      <th>P>|z|</th>  <th>[0.025</th>    <th>0.975]</th>  \n",
       "</tr>\n",
       "<tr>\n",
       "  <th>ar.L1</th>  <td>    0.1027</td> <td>    0.042</td> <td>    2.442</td> <td> 0.015</td> <td>    0.020</td> <td>    0.185</td>\n",
       "</tr>\n",
       "<tr>\n",
       "  <th>ma.L1</th>  <td>   -1.3022</td> <td>    0.045</td> <td>  -28.625</td> <td> 0.000</td> <td>   -1.391</td> <td>   -1.213</td>\n",
       "</tr>\n",
       "<tr>\n",
       "  <th>ma.L2</th>  <td>    0.3022</td> <td>    0.043</td> <td>    7.105</td> <td> 0.000</td> <td>    0.219</td> <td>    0.386</td>\n",
       "</tr>\n",
       "<tr>\n",
       "  <th>sigma2</th> <td>    0.5141</td> <td>    0.009</td> <td>   56.504</td> <td> 0.000</td> <td>    0.496</td> <td>    0.532</td>\n",
       "</tr>\n",
       "</table>\n",
       "<table class=\"simpletable\">\n",
       "<tr>\n",
       "  <th>Ljung-Box (L1) (Q):</th>     <td>0.00</td> <th>  Jarque-Bera (JB):  </th> <td>1687568.31</td>\n",
       "</tr>\n",
       "<tr>\n",
       "  <th>Prob(Q):</th>                <td>0.99</td> <th>  Prob(JB):          </th>    <td>0.00</td>   \n",
       "</tr>\n",
       "<tr>\n",
       "  <th>Heteroskedasticity (H):</th> <td>0.24</td> <th>  Skew:              </th>    <td>2.82</td>   \n",
       "</tr>\n",
       "<tr>\n",
       "  <th>Prob(H) (two-sided):</th>    <td>0.00</td> <th>  Kurtosis:          </th>    <td>93.56</td>  \n",
       "</tr>\n",
       "</table><br/><br/>Warnings:<br/>[1] Covariance matrix calculated using the outer product of gradients (complex-step)."
      ],
      "text/plain": [
       "<class 'statsmodels.iolib.summary.Summary'>\n",
       "\"\"\"\n",
       "                               SARIMAX Results                                \n",
       "==============================================================================\n",
       "Dep. Variable:                      y   No. Observations:                 4920\n",
       "Model:                 ARIMA(1, 1, 2)   Log Likelihood               -5348.221\n",
       "Date:                Fri, 18 Nov 2022   AIC                          10704.442\n",
       "Time:                        08:20:58   BIC                          10730.445\n",
       "Sample:                             0   HQIC                         10713.563\n",
       "                               - 4920                                         \n",
       "Covariance Type:                  opg                                         \n",
       "==============================================================================\n",
       "                 coef    std err          z      P>|z|      [0.025      0.975]\n",
       "------------------------------------------------------------------------------\n",
       "ar.L1          0.1027      0.042      2.442      0.015       0.020       0.185\n",
       "ma.L1         -1.3022      0.045    -28.625      0.000      -1.391      -1.213\n",
       "ma.L2          0.3022      0.043      7.105      0.000       0.219       0.386\n",
       "sigma2         0.5141      0.009     56.504      0.000       0.496       0.532\n",
       "===================================================================================\n",
       "Ljung-Box (L1) (Q):                   0.00   Jarque-Bera (JB):           1687568.31\n",
       "Prob(Q):                              0.99   Prob(JB):                         0.00\n",
       "Heteroskedasticity (H):               0.24   Skew:                             2.82\n",
       "Prob(H) (two-sided):                  0.00   Kurtosis:                        93.56\n",
       "===================================================================================\n",
       "\n",
       "Warnings:\n",
       "[1] Covariance matrix calculated using the outer product of gradients (complex-step).\n",
       "\"\"\""
      ]
     },
     "execution_count": 11,
     "metadata": {},
     "output_type": "execute_result"
    }
   ],
   "source": [
    "# Output model summary results:\n",
    "results.summary()\n",
    "# print(fitted.summary())\n"
   ]
  },
  {
   "cell_type": "code",
   "execution_count": 12,
   "id": "9789ae19-cb3c-4e53-aab3-e68084d70b7f",
   "metadata": {},
   "outputs": [
    {
     "data": {
      "image/png": "[encoded data removed]",
      "text/plain": [
       "<Figure size 432x288 with 1 Axes>"
      ]
     },
     "metadata": {
      "needs_background": "light"
     },
     "output_type": "display_data"
    }
   ],
   "source": [
    "# Plot the 5 Day Returns Forecast\n",
    "\n",
    "# one-step out-of sample forecast\n",
    "# forecast = results.forecast(step=5)[0].plot(title=\"5 Day Returns Forecast\")\n",
    "\n",
    "arma_plot = pd.DataFrame(results.forecast(steps=5)).plot(title=\"5 Day Returns Forecast\")\n",
    "arma_fig = arma_plot.get_figure()\n",
    "# arma_fig.savefig(\"./Images/Arma_Five_Days_Returns.png\")\n",
    "\n"
   ]
  },
  {
   "cell_type": "markdown",
   "id": "d078aff4-0f53-4a3d-956a-3dad26839572",
   "metadata": {},
   "source": [
    "# Forecasting the Adj Close Price using an ARIMA Model\n",
    "\n",
    "    Using the raw Yen Adj Close Price, estimate an ARIMA model.\n",
    "        Set P=5, D=1, and Q=1 in the model (e.g., ARIMA(df, order=(5,1,1))\n",
    "        P= # of Auto-Regressive Lags, D= # of Differences (this is usually =1), Q= # of Moving Average Lags\n",
    "    Output the ARIMA summary table and take note of the p-values of the lags. Based on the p-values, is the model a good fit (p < 0.05)?\n",
    "    Construct a 5 day forecast for the Adj Close Price. What does the model forecast will happen to the futures in the near term?\n",
    "\n"
   ]
  },
  {
   "cell_type": "code",
   "execution_count": 13,
   "id": "fd3dd4b2-527f-4d45-88d1-cd27820c04e7",
   "metadata": {},
   "outputs": [
    {
     "name": "stderr",
     "output_type": "stream",
     "text": [
      "C:\\Users\\Owner\\anaconda3\\envs\\CurrentMain\\lib\\site-packages\\statsmodels\\tsa\\base\\tsa_model.py:471: ValueWarning: A date index has been provided, but it has no associated frequency information and so will be ignored when e.g. forecasting.\n",
      "  self._init_dates(dates, freq)\n",
      "C:\\Users\\Owner\\anaconda3\\envs\\CurrentMain\\lib\\site-packages\\statsmodels\\tsa\\base\\tsa_model.py:471: ValueWarning: A date index has been provided, but it has no associated frequency information and so will be ignored when e.g. forecasting.\n",
      "  self._init_dates(dates, freq)\n",
      "C:\\Users\\Owner\\anaconda3\\envs\\CurrentMain\\lib\\site-packages\\statsmodels\\tsa\\base\\tsa_model.py:471: ValueWarning: A date index has been provided, but it has no associated frequency information and so will be ignored when e.g. forecasting.\n",
      "  self._init_dates(dates, freq)\n"
     ]
    }
   ],
   "source": [
    "# from statsmodels.tsa.arima_model import ARIMA\n",
    "from pmdarima.arima import auto_arima\n",
    "\n",
    "\n",
    "# Estimate and ARIMA Model:\n",
    "# Hint: ARIMA(df, order=(p, d, q))\n",
    "model = sm.tsa.arima.ARIMA(df['Adj Close'], order=(5,1,1))\n",
    "# Fit the model\n",
    "results_arima = model.fit()"
   ]
  },
  {
   "cell_type": "code",
   "execution_count": 14,
   "id": "f39f8926-9ebf-4d92-b8e5-76a9bb3e1654",
   "metadata": {},
   "outputs": [
    {
     "data": {
      "text/html": [
       "<table class=\"simpletable\">\n",
       "<caption>SARIMAX Results</caption>\n",
       "<tr>\n",
       "  <th>Dep. Variable:</th>       <td>Adj Close</td>    <th>  No. Observations:  </th>    <td>4921</td>   \n",
       "</tr>\n",
       "<tr>\n",
       "  <th>Model:</th>            <td>ARIMA(5, 1, 1)</td>  <th>  Log Likelihood     </th>  <td>15977.320</td>\n",
       "</tr>\n",
       "<tr>\n",
       "  <th>Date:</th>            <td>Fri, 18 Nov 2022</td> <th>  AIC                </th> <td>-31940.639</td>\n",
       "</tr>\n",
       "<tr>\n",
       "  <th>Time:</th>                <td>08:20:59</td>     <th>  BIC                </th> <td>-31895.132</td>\n",
       "</tr>\n",
       "<tr>\n",
       "  <th>Sample:</th>                  <td>0</td>        <th>  HQIC               </th> <td>-31924.677</td>\n",
       "</tr>\n",
       "<tr>\n",
       "  <th></th>                      <td> - 4921</td>     <th>                     </th>      <td> </td>    \n",
       "</tr>\n",
       "<tr>\n",
       "  <th>Covariance Type:</th>        <td>opg</td>       <th>                     </th>      <td> </td>    \n",
       "</tr>\n",
       "</table>\n",
       "<table class=\"simpletable\">\n",
       "<tr>\n",
       "     <td></td>       <th>coef</th>     <th>std err</th>      <th>z</th>      <th>P>|z|</th>  <th>[0.025</th>    <th>0.975]</th>  \n",
       "</tr>\n",
       "<tr>\n",
       "  <th>ar.L1</th>  <td>   -0.1096</td> <td>    0.002</td> <td>  -72.134</td> <td> 0.000</td> <td>   -0.113</td> <td>   -0.107</td>\n",
       "</tr>\n",
       "<tr>\n",
       "  <th>ar.L2</th>  <td>   -0.0535</td> <td>    0.008</td> <td>   -6.727</td> <td> 0.000</td> <td>   -0.069</td> <td>   -0.038</td>\n",
       "</tr>\n",
       "<tr>\n",
       "  <th>ar.L3</th>  <td>   -0.0037</td> <td>    0.010</td> <td>   -0.361</td> <td> 0.718</td> <td>   -0.024</td> <td>    0.016</td>\n",
       "</tr>\n",
       "<tr>\n",
       "  <th>ar.L4</th>  <td>    0.0033</td> <td>    0.009</td> <td>    0.352</td> <td> 0.725</td> <td>   -0.015</td> <td>    0.022</td>\n",
       "</tr>\n",
       "<tr>\n",
       "  <th>ar.L5</th>  <td>   -0.0012</td> <td>    0.007</td> <td>   -0.160</td> <td> 0.873</td> <td>   -0.015</td> <td>    0.013</td>\n",
       "</tr>\n",
       "<tr>\n",
       "  <th>ma.L1</th>  <td>   -0.1222</td> <td>    0.002</td> <td>  -67.617</td> <td> 0.000</td> <td>   -0.126</td> <td>   -0.119</td>\n",
       "</tr>\n",
       "<tr>\n",
       "  <th>sigma2</th> <td> 8.847e-05</td> <td> 2.97e-07</td> <td>  297.690</td> <td> 0.000</td> <td> 8.79e-05</td> <td> 8.91e-05</td>\n",
       "</tr>\n",
       "</table>\n",
       "<table class=\"simpletable\">\n",
       "<tr>\n",
       "  <th>Ljung-Box (L1) (Q):</th>     <td>0.00</td> <th>  Jarque-Bera (JB):  </th> <td>1776995.71</td>\n",
       "</tr>\n",
       "<tr>\n",
       "  <th>Prob(Q):</th>                <td>0.99</td> <th>  Prob(JB):          </th>    <td>0.00</td>   \n",
       "</tr>\n",
       "<tr>\n",
       "  <th>Heteroskedasticity (H):</th> <td>0.16</td> <th>  Skew:              </th>    <td>2.27</td>   \n",
       "</tr>\n",
       "<tr>\n",
       "  <th>Prob(H) (two-sided):</th>    <td>0.00</td> <th>  Kurtosis:          </th>    <td>95.99</td>  \n",
       "</tr>\n",
       "</table><br/><br/>Warnings:<br/>[1] Covariance matrix calculated using the outer product of gradients (complex-step).<br/>[2] Covariance matrix is singular or near-singular, with condition number 5.79e+16. Standard errors may be unstable."
      ],
      "text/plain": [
       "<class 'statsmodels.iolib.summary.Summary'>\n",
       "\"\"\"\n",
       "                               SARIMAX Results                                \n",
       "==============================================================================\n",
       "Dep. Variable:              Adj Close   No. Observations:                 4921\n",
       "Model:                 ARIMA(5, 1, 1)   Log Likelihood               15977.320\n",
       "Date:                Fri, 18 Nov 2022   AIC                         -31940.639\n",
       "Time:                        08:20:59   BIC                         -31895.132\n",
       "Sample:                             0   HQIC                        -31924.677\n",
       "                               - 4921                                         \n",
       "Covariance Type:                  opg                                         \n",
       "==============================================================================\n",
       "                 coef    std err          z      P>|z|      [0.025      0.975]\n",
       "------------------------------------------------------------------------------\n",
       "ar.L1         -0.1096      0.002    -72.134      0.000      -0.113      -0.107\n",
       "ar.L2         -0.0535      0.008     -6.727      0.000      -0.069      -0.038\n",
       "ar.L3         -0.0037      0.010     -0.361      0.718      -0.024       0.016\n",
       "ar.L4          0.0033      0.009      0.352      0.725      -0.015       0.022\n",
       "ar.L5         -0.0012      0.007     -0.160      0.873      -0.015       0.013\n",
       "ma.L1         -0.1222      0.002    -67.617      0.000      -0.126      -0.119\n",
       "sigma2      8.847e-05   2.97e-07    297.690      0.000    8.79e-05    8.91e-05\n",
       "===================================================================================\n",
       "Ljung-Box (L1) (Q):                   0.00   Jarque-Bera (JB):           1776995.71\n",
       "Prob(Q):                              0.99   Prob(JB):                         0.00\n",
       "Heteroskedasticity (H):               0.16   Skew:                             2.27\n",
       "Prob(H) (two-sided):                  0.00   Kurtosis:                        95.99\n",
       "===================================================================================\n",
       "\n",
       "Warnings:\n",
       "[1] Covariance matrix calculated using the outer product of gradients (complex-step).\n",
       "[2] Covariance matrix is singular or near-singular, with condition number 5.79e+16. Standard errors may be unstable.\n",
       "\"\"\""
      ]
     },
     "execution_count": 14,
     "metadata": {},
     "output_type": "execute_result"
    }
   ],
   "source": [
    "# Output model summary results:\n",
    "results_arima.summary()\n",
    "\n"
   ]
  },
  {
   "cell_type": "code",
   "execution_count": 15,
   "id": "07c36377-43e2-425a-a278-64c41ecf3525",
   "metadata": {},
   "outputs": [
    {
     "name": "stderr",
     "output_type": "stream",
     "text": [
      "C:\\Users\\Owner\\anaconda3\\envs\\CurrentMain\\lib\\site-packages\\statsmodels\\tsa\\base\\tsa_model.py:843: ValueWarning: No supported index is available. Prediction results will be given with an integer index beginning at `start`.\n",
      "  data=self.data,\n"
     ]
    },
    {
     "data": {
      "image/png": "[encoded data removed]",
      "text/plain": [
       "<Figure size 432x288 with 1 Axes>"
      ]
     },
     "metadata": {
      "needs_background": "light"
     },
     "output_type": "display_data"
    }
   ],
   "source": [
    "# Plot the 5 Day Price Forecast\n",
    "arima_plot=pd.DataFrame(results_arima.forecast(steps=5)).plot(title=\"5 Day Futures Price Forecast\")\n",
    "arima_fig = arima_plot.get_figure()\n",
    "# arima_fig.savefig(\"./Images/Arima_Five_Days_Returns.png\")\n",
    "\n"
   ]
  },
  {
   "cell_type": "markdown",
   "id": "b98f5ebb-1c3a-47ed-b291-4958f62efd99",
   "metadata": {},
   "source": [
    "# Volatility Forecasting with GARCH\n",
    "\n",
    "Rather than predicting returns, let's forecast near-term volatility of the futures returns. Being able to accurately predict volatility will be extremely useful if we want to trade in derivatives or quantify our maximum loss.\n",
    "\n",
    "Using futures Settle Returns, estimate an GARCH model\n",
    "\n",
    "    GARCH: Create an GARCH model and fit it to the returns data. Note: Set the parameters to p=2 and q=1: order=(2, 1).\n",
    "    Output the GARCH summary table and take note of the p-values of the lags. Based on the p-values, is the model a good fit (p < 0.05)?\n",
    "    Plot the 5-day forecast of the volatility.\n",
    "\n"
   ]
  },
  {
   "cell_type": "code",
   "execution_count": 16,
   "id": "ae65bfcf-a78b-4a3c-abc4-de597f907c7f",
   "metadata": {},
   "outputs": [],
   "source": [
    "import arch "
   ]
  },
  {
   "cell_type": "code",
   "execution_count": 17,
   "id": "20db8321-22f9-451f-91e3-b0ef8d4c5b6c",
   "metadata": {},
   "outputs": [],
   "source": [
    "# Estimate a GARCH model:\n",
    "from arch import arch_model\n",
    "model_garch = arch_model(returns, mean=\"Zero\", vol=\"GARCH\", p=2, q=1)\n",
    "\n",
    "# Fit the model\n",
    "results_garch = model_garch.fit(disp=\"off\")\n",
    "\n"
   ]
  },
  {
   "cell_type": "code",
   "execution_count": 18,
   "id": "8765aa10-798d-48dd-a8c6-fe30b39d07cf",
   "metadata": {},
   "outputs": [
    {
     "data": {
      "text/html": [
       "<table class=\"simpletable\">\n",
       "<caption>Zero Mean - GARCH Model Results</caption>\n",
       "<tr>\n",
       "  <th>Dep. Variable:</th>      <td>Adj Close</td>     <th>  R-squared:         </th>  <td>   0.000</td> \n",
       "</tr>\n",
       "<tr>\n",
       "  <th>Mean Model:</th>         <td>Zero Mean</td>     <th>  Adj. R-squared:    </th>  <td>   0.000</td> \n",
       "</tr>\n",
       "<tr>\n",
       "  <th>Vol Model:</th>            <td>GARCH</td>       <th>  Log-Likelihood:    </th> <td>  -4228.78</td>\n",
       "</tr>\n",
       "<tr>\n",
       "  <th>Distribution:</th>        <td>Normal</td>       <th>  AIC:               </th> <td>   8465.57</td>\n",
       "</tr>\n",
       "<tr>\n",
       "  <th>Method:</th>        <td>Maximum Likelihood</td> <th>  BIC:               </th> <td>   8491.57</td>\n",
       "</tr>\n",
       "<tr>\n",
       "  <th></th>                        <td></td>          <th>  No. Observations:  </th>    <td>4920</td>   \n",
       "</tr>\n",
       "<tr>\n",
       "  <th>Date:</th>           <td>Fri, Nov 18 2022</td>  <th>  Df Residuals:      </th>    <td>4920</td>   \n",
       "</tr>\n",
       "<tr>\n",
       "  <th>Time:</th>               <td>08:21:00</td>      <th>  Df Model:          </th>      <td>0</td>    \n",
       "</tr>\n",
       "</table>\n",
       "<table class=\"simpletable\">\n",
       "<caption>Volatility Model</caption>\n",
       "<tr>\n",
       "      <td></td>        <th>coef</th>     <th>std err</th>      <th>t</th>       <th>P>|t|</th>      <th>95.0% Conf. Int.</th>   \n",
       "</tr>\n",
       "<tr>\n",
       "  <th>omega</th>    <td>1.1374e-03</td> <td>8.640e-04</td> <td>    1.316</td> <td>    0.188</td> <td>[-5.560e-04,2.831e-03]</td>\n",
       "</tr>\n",
       "<tr>\n",
       "  <th>alpha[1]</th> <td>    0.0469</td> <td>1.245e-02</td> <td>    3.768</td> <td>1.644e-04</td>  <td>[2.251e-02,7.131e-02]</td>\n",
       "</tr>\n",
       "<tr>\n",
       "  <th>alpha[2]</th>   <td>0.0000</td>   <td>1.477e-02</td>   <td>0.000</td>   <td>    1.000</td> <td>[-2.894e-02,2.894e-02]</td>\n",
       "</tr>\n",
       "<tr>\n",
       "  <th>beta[1]</th>  <td>    0.9531</td> <td>8.578e-03</td> <td>  111.106</td>   <td>0.000</td>      <td>[  0.936,  0.970]</td>  \n",
       "</tr>\n",
       "</table><br/><br/>Covariance estimator: robust"
      ],
      "text/plain": [
       "<class 'statsmodels.iolib.summary.Summary'>\n",
       "\"\"\"\n",
       "                       Zero Mean - GARCH Model Results                        \n",
       "==============================================================================\n",
       "Dep. Variable:              Adj Close   R-squared:                       0.000\n",
       "Mean Model:                 Zero Mean   Adj. R-squared:                  0.000\n",
       "Vol Model:                      GARCH   Log-Likelihood:               -4228.78\n",
       "Distribution:                  Normal   AIC:                           8465.57\n",
       "Method:            Maximum Likelihood   BIC:                           8491.57\n",
       "                                        No. Observations:                 4920\n",
       "Date:                Fri, Nov 18 2022   Df Residuals:                     4920\n",
       "Time:                        08:21:00   Df Model:                            0\n",
       "                               Volatility Model                              \n",
       "=============================================================================\n",
       "                 coef    std err          t      P>|t|       95.0% Conf. Int.\n",
       "-----------------------------------------------------------------------------\n",
       "omega      1.1374e-03  8.640e-04      1.316      0.188 [-5.560e-04,2.831e-03]\n",
       "alpha[1]       0.0469  1.245e-02      3.768  1.644e-04  [2.251e-02,7.131e-02]\n",
       "alpha[2]       0.0000  1.477e-02      0.000      1.000 [-2.894e-02,2.894e-02]\n",
       "beta[1]        0.9531  8.578e-03    111.106      0.000      [  0.936,  0.970]\n",
       "=============================================================================\n",
       "\n",
       "Covariance estimator: robust\n",
       "\"\"\""
      ]
     },
     "execution_count": 18,
     "metadata": {},
     "output_type": "execute_result"
    }
   ],
   "source": [
    "# Summarize the model results\n",
    "results_garch.summary()"
   ]
  },
  {
   "cell_type": "code",
   "execution_count": 19,
   "id": "6dbfde79-ffb4-4be9-8531-f9885b23c05d",
   "metadata": {},
   "outputs": [
    {
     "data": {
      "text/plain": [
       "'2022-11-18'"
      ]
     },
     "execution_count": 19,
     "metadata": {},
     "output_type": "execute_result"
    }
   ],
   "source": [
    "# Find the last day of the dataset\n",
    "last_day = returns.index.max().strftime('%Y-%m-%d')\n",
    "last_day\n",
    "\n"
   ]
  },
  {
   "cell_type": "code",
   "execution_count": 20,
   "id": "415fb368-9645-4dbd-9d37-73ae662a017d",
   "metadata": {},
   "outputs": [],
   "source": [
    "# Create a 5 day forecast of volatility\n",
    "forecast_horizon = 5\n",
    "# Start the forecast using the last_day calculated above\n",
    "forecasts = results_garch.forecast(start=last_day, horizon=forecast_horizon, reindex=True)"
   ]
  },
  {
   "cell_type": "code",
   "execution_count": 21,
   "id": "35af2d65-810d-4364-9ea2-ffd56ef63e08",
   "metadata": {},
   "outputs": [
    {
     "data": {
      "text/html": [
       "<div>\n",
       "<style scoped>\n",
       "    .dataframe tbody tr th:only-of-type {\n",
       "        vertical-align: middle;\n",
       "    }\n",
       "\n",
       "    .dataframe tbody tr th {\n",
       "        vertical-align: top;\n",
       "    }\n",
       "\n",
       "    .dataframe thead th {\n",
       "        text-align: right;\n",
       "    }\n",
       "</style>\n",
       "<table border=\"1\" class=\"dataframe\">\n",
       "  <thead>\n",
       "    <tr style=\"text-align: right;\">\n",
       "      <th></th>\n",
       "      <th>h.1</th>\n",
       "      <th>h.2</th>\n",
       "      <th>h.3</th>\n",
       "      <th>h.4</th>\n",
       "      <th>h.5</th>\n",
       "    </tr>\n",
       "    <tr>\n",
       "      <th>Date</th>\n",
       "      <th></th>\n",
       "      <th></th>\n",
       "      <th></th>\n",
       "      <th></th>\n",
       "      <th></th>\n",
       "    </tr>\n",
       "  </thead>\n",
       "  <tbody>\n",
       "    <tr>\n",
       "      <th>2022-11-18</th>\n",
       "      <td>13.328025</td>\n",
       "      <td>13.338774</td>\n",
       "      <td>13.349515</td>\n",
       "      <td>13.360247</td>\n",
       "      <td>13.370971</td>\n",
       "    </tr>\n",
       "  </tbody>\n",
       "</table>\n",
       "</div>"
      ],
      "text/plain": [
       "                  h.1        h.2        h.3        h.4        h.5\n",
       "Date                                                             \n",
       "2022-11-18  13.328025  13.338774  13.349515  13.360247  13.370971"
      ]
     },
     "execution_count": 21,
     "metadata": {},
     "output_type": "execute_result"
    }
   ],
   "source": [
    "# Annualize the forecast\n",
    "intermediate = np.sqrt(forecasts.variance.dropna() * 252)\n",
    "intermediate.head()"
   ]
  },
  {
   "cell_type": "code",
   "execution_count": 22,
   "id": "f70b4701-3c7a-4c51-ae80-e8bfc3f0d329",
   "metadata": {},
   "outputs": [
    {
     "data": {
      "text/html": [
       "<div>\n",
       "<style scoped>\n",
       "    .dataframe tbody tr th:only-of-type {\n",
       "        vertical-align: middle;\n",
       "    }\n",
       "\n",
       "    .dataframe tbody tr th {\n",
       "        vertical-align: top;\n",
       "    }\n",
       "\n",
       "    .dataframe thead th {\n",
       "        text-align: right;\n",
       "    }\n",
       "</style>\n",
       "<table border=\"1\" class=\"dataframe\">\n",
       "  <thead>\n",
       "    <tr style=\"text-align: right;\">\n",
       "      <th>Date</th>\n",
       "      <th>2022-11-18</th>\n",
       "    </tr>\n",
       "  </thead>\n",
       "  <tbody>\n",
       "    <tr>\n",
       "      <th>h.1</th>\n",
       "      <td>13.328025</td>\n",
       "    </tr>\n",
       "    <tr>\n",
       "      <th>h.2</th>\n",
       "      <td>13.338774</td>\n",
       "    </tr>\n",
       "    <tr>\n",
       "      <th>h.3</th>\n",
       "      <td>13.349515</td>\n",
       "    </tr>\n",
       "    <tr>\n",
       "      <th>h.4</th>\n",
       "      <td>13.360247</td>\n",
       "    </tr>\n",
       "    <tr>\n",
       "      <th>h.5</th>\n",
       "      <td>13.370971</td>\n",
       "    </tr>\n",
       "  </tbody>\n",
       "</table>\n",
       "</div>"
      ],
      "text/plain": [
       "Date  2022-11-18\n",
       "h.1    13.328025\n",
       "h.2    13.338774\n",
       "h.3    13.349515\n",
       "h.4    13.360247\n",
       "h.5    13.370971"
      ]
     },
     "execution_count": 22,
     "metadata": {},
     "output_type": "execute_result"
    }
   ],
   "source": [
    "# Transpose the forecast so that it is easier to plot\n",
    "final = intermediate.dropna().T\n",
    "final.head()\n",
    "\n"
   ]
  },
  {
   "cell_type": "code",
   "execution_count": 23,
   "id": "6224b0f8-a5c7-4d8e-9f52-54dd98302f23",
   "metadata": {},
   "outputs": [
    {
     "data": {
      "image/png": "[encoded data removed]",
      "text/plain": [
       "<Figure size 432x288 with 1 Axes>"
      ]
     },
     "metadata": {
      "needs_background": "light"
     },
     "output_type": "display_data"
    }
   ],
   "source": [
    "# Plot the final forecast\n",
    "garch_plot=final.plot()\n",
    "garch_fig = garch_plot.get_figure()\n",
    "# garch_fig.savefig(\"./Images/Garch_forecast.png\")\n",
    "\n"
   ]
  },
  {
   "cell_type": "code",
   "execution_count": null,
   "id": "64fd9dbc-8773-4c30-9e9e-41753f6cbde0",
   "metadata": {},
   "outputs": [],
   "source": []
  }
 ],
 "metadata": {
  "kernelspec": {
   "display_name": "Python [conda env:CurrentMain] *",
   "language": "python",
   "name": "conda-env-CurrentMain-py"
  },
  "language_info": {
   "codemirror_mode": {
    "name": "ipython",
    "version": 3
   },
   "file_extension": ".py",
   "mimetype": "text/x-python",
   "name": "python",
   "nbconvert_exporter": "python",
   "pygments_lexer": "ipython3",
   "version": "3.7.11"
  }
 },
 "nbformat": 4,
 "nbformat_minor": 5
}
